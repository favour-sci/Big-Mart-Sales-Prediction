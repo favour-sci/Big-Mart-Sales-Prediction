
    {
      "cell_type": "code",
      "execution_count": 6,
      "metadata": {
        "id": "fbbe8b5c"
      },
      "outputs": [],
      "source": [
        "import pandas as pd\n",
        "import numpy as np\n",
        "import matplotlib.pyplot as plt\n",
        "import plotly.express as px\n",
        "import category_encoders as ce\n",
        "from sklearn.linear_model import LinearRegression\n",
        "from sklearn.linear_model import LinearRegression, Ridge\n",
        "from sklearn.metrics import mean_absolute_error\n",
        "from sklearn.metrics import mean_squared_error\n",
        "from sklearn.pipeline import Pipeline, make_pipeline\n",
        "from category_encoders import OneHotEncoder\n",
        "from ipywidgets import Dropdown, FloatSlider, IntSlider, interact\n",
        "from sklearn.impute import SimpleImputer\n",
        "\n",
        "from sklearn.utils.validation import check_is_fitted"
      ],
      "id": "fbbe8b5c"
    },
    {
      "cell_type": "code",
      "execution_count": 7,
      "metadata": {
        "colab": {
          "base_uri": "https://localhost:8080/",
          "height": 618
        },
        "id": "fc7f12ea",
        "outputId": "91e350f3-e162-47d0-bf69-90f2434112a0"
      },
      "outputs": [
        {
          "output_type": "stream",
          "name": "stdout",
          "text": [
            "(8523, 12)\n"
          ]
        },
        {
          "output_type": "execute_result",
          "data": {
            "text/plain": [
              "  Item_Identifier  Item_Weight Item_Fat_Content  Item_Visibility  \\\n",
              "0           FDA15        9.300          Low Fat         0.016047   \n",
              "1           DRC01        5.920          Regular         0.019278   \n",
              "2           FDN15       17.500          Low Fat         0.016760   \n",
              "3           FDX07       19.200          Regular         0.000000   \n",
              "4           NCD19        8.930          Low Fat         0.000000   \n",
              "5           FDP36       10.395          Regular         0.000000   \n",
              "6           FDO10       13.650          Regular         0.012741   \n",
              "7           FDP10          NaN          Low Fat         0.127470   \n",
              "8           FDH17       16.200          Regular         0.016687   \n",
              "9           FDU28       19.200          Regular         0.094450   \n",
              "\n",
              "               Item_Type  Item_MRP Outlet_Identifier  \\\n",
              "0                  Dairy  249.8092            OUT049   \n",
              "1            Soft Drinks   48.2692            OUT018   \n",
              "2                   Meat  141.6180            OUT049   \n",
              "3  Fruits and Vegetables  182.0950            OUT010   \n",
              "4              Household   53.8614            OUT013   \n",
              "5           Baking Goods   51.4008            OUT018   \n",
              "6            Snack Foods   57.6588            OUT013   \n",
              "7            Snack Foods  107.7622            OUT027   \n",
              "8           Frozen Foods   96.9726            OUT045   \n",
              "9           Frozen Foods  187.8214            OUT017   \n",
              "\n",
              "   Outlet_Establishment_Year Outlet_Size Outlet_Location_Type  \\\n",
              "0                       1999      Medium               Tier 1   \n",
              "1                       2009      Medium               Tier 3   \n",
              "2                       1999      Medium               Tier 1   \n",
              "3                       1998         NaN               Tier 3   \n",
              "4                       1987        High               Tier 3   \n",
              "5                       2009      Medium               Tier 3   \n",
              "6                       1987        High               Tier 3   \n",
              "7                       1985      Medium               Tier 3   \n",
              "8                       2002         NaN               Tier 2   \n",
              "9                       2007         NaN               Tier 2   \n",
              "\n",
              "         Outlet_Type  Item_Outlet_Sales  \n",
              "0  Supermarket Type1          3735.1380  \n",
              "1  Supermarket Type2           443.4228  \n",
              "2  Supermarket Type1          2097.2700  \n",
              "3      Grocery Store           732.3800  \n",
              "4  Supermarket Type1           994.7052  \n",
              "5  Supermarket Type2           556.6088  \n",
              "6  Supermarket Type1           343.5528  \n",
              "7  Supermarket Type3          4022.7636  \n",
              "8  Supermarket Type1          1076.5986  \n",
              "9  Supermarket Type1          4710.5350  "
            ],
            "text/html": [
              "\n",
              "  <div id=\"df-d32ace70-c873-4bd2-a8fc-629e1a664d48\">\n",
              "    <div class=\"colab-df-container\">\n",
              "      <div>\n",
              "<style scoped>\n",
              "    .dataframe tbody tr th:only-of-type {\n",
              "        vertical-align: middle;\n",
              "    }\n",
              "\n",
              "    .dataframe tbody tr th {\n",
              "        vertical-align: top;\n",
              "    }\n",
              "\n",
              "    .dataframe thead th {\n",
              "        text-align: right;\n",
              "    }\n",
              "</style>\n",
              "<table border=\"1\" class=\"dataframe\">\n",
              "  <thead>\n",
              "    <tr style=\"text-align: right;\">\n",
              "      <th></th>\n",
              "      <th>Item_Identifier</th>\n",
              "      <th>Item_Weight</th>\n",
              "      <th>Item_Fat_Content</th>\n",
              "      <th>Item_Visibility</th>\n",
              "      <th>Item_Type</th>\n",
              "      <th>Item_MRP</th>\n",
              "      <th>Outlet_Identifier</th>\n",
              "      <th>Outlet_Establishment_Year</th>\n",
              "      <th>Outlet_Size</th>\n",
              "      <th>Outlet_Location_Type</th>\n",
              "      <th>Outlet_Type</th>\n",
              "      <th>Item_Outlet_Sales</th>\n",
              "    </tr>\n",
              "  </thead>\n",
              "  <tbody>\n",
              "    <tr>\n",
              "      <th>0</th>\n",
              "      <td>FDA15</td>\n",
              "      <td>9.300</td>\n",
              "      <td>Low Fat</td>\n",
              "      <td>0.016047</td>\n",
              "      <td>Dairy</td>\n",
              "      <td>249.8092</td>\n",
              "      <td>OUT049</td>\n",
              "      <td>1999</td>\n",
              "      <td>Medium</td>\n",
              "      <td>Tier 1</td>\n",
              "      <td>Supermarket Type1</td>\n",
              "      <td>3735.1380</td>\n",
              "    </tr>\n",
              "    <tr>\n",
              "      <th>1</th>\n",
              "      <td>DRC01</td>\n",
              "      <td>5.920</td>\n",
              "      <td>Regular</td>\n",
              "      <td>0.019278</td>\n",
              "      <td>Soft Drinks</td>\n",
              "      <td>48.2692</td>\n",
              "      <td>OUT018</td>\n",
              "      <td>2009</td>\n",
              "      <td>Medium</td>\n",
              "      <td>Tier 3</td>\n",
              "      <td>Supermarket Type2</td>\n",
              "      <td>443.4228</td>\n",
              "    </tr>\n",
              "    <tr>\n",
              "      <th>2</th>\n",
              "      <td>FDN15</td>\n",
              "      <td>17.500</td>\n",
              "      <td>Low Fat</td>\n",
              "      <td>0.016760</td>\n",
              "      <td>Meat</td>\n",
              "      <td>141.6180</td>\n",
              "      <td>OUT049</td>\n",
              "      <td>1999</td>\n",
              "      <td>Medium</td>\n",
              "      <td>Tier 1</td>\n",
              "      <td>Supermarket Type1</td>\n",
              "      <td>2097.2700</td>\n",
              "    </tr>\n",
              "    <tr>\n",
              "      <th>3</th>\n",
              "      <td>FDX07</td>\n",
              "      <td>19.200</td>\n",
              "      <td>Regular</td>\n",
              "      <td>0.000000</td>\n",
              "      <td>Fruits and Vegetables</td>\n",
              "      <td>182.0950</td>\n",
              "      <td>OUT010</td>\n",
              "      <td>1998</td>\n",
              "      <td>NaN</td>\n",
              "      <td>Tier 3</td>\n",
              "      <td>Grocery Store</td>\n",
              "      <td>732.3800</td>\n",
              "    </tr>\n",
              "    <tr>\n",
              "      <th>4</th>\n",
              "      <td>NCD19</td>\n",
              "      <td>8.930</td>\n",
              "      <td>Low Fat</td>\n",
              "      <td>0.000000</td>\n",
              "      <td>Household</td>\n",
              "      <td>53.8614</td>\n",
              "      <td>OUT013</td>\n",
              "      <td>1987</td>\n",
              "      <td>High</td>\n",
              "      <td>Tier 3</td>\n",
              "      <td>Supermarket Type1</td>\n",
              "      <td>994.7052</td>\n",
              "    </tr>\n",
              "    <tr>\n",
              "      <th>5</th>\n",
              "      <td>FDP36</td>\n",
              "      <td>10.395</td>\n",
              "      <td>Regular</td>\n",
              "      <td>0.000000</td>\n",
              "      <td>Baking Goods</td>\n",
              "      <td>51.4008</td>\n",
              "      <td>OUT018</td>\n",
              "      <td>2009</td>\n",
              "      <td>Medium</td>\n",
              "      <td>Tier 3</td>\n",
              "      <td>Supermarket Type2</td>\n",
              "      <td>556.6088</td>\n",
              "    </tr>\n",
              "    <tr>\n",
              "      <th>6</th>\n",
              "      <td>FDO10</td>\n",
              "      <td>13.650</td>\n",
              "      <td>Regular</td>\n",
              "      <td>0.012741</td>\n",
              "      <td>Snack Foods</td>\n",
              "      <td>57.6588</td>\n",
              "      <td>OUT013</td>\n",
              "      <td>1987</td>\n",
              "      <td>High</td>\n",
              "      <td>Tier 3</td>\n",
              "      <td>Supermarket Type1</td>\n",
              "      <td>343.5528</td>\n",
              "    </tr>\n",
              "    <tr>\n",
              "      <th>7</th>\n",
              "      <td>FDP10</td>\n",
              "      <td>NaN</td>\n",
              "      <td>Low Fat</td>\n",
              "      <td>0.127470</td>\n",
              "      <td>Snack Foods</td>\n",
              "      <td>107.7622</td>\n",
              "      <td>OUT027</td>\n",
              "      <td>1985</td>\n",
              "      <td>Medium</td>\n",
              "      <td>Tier 3</td>\n",
              "      <td>Supermarket Type3</td>\n",
              "      <td>4022.7636</td>\n",
              "    </tr>\n",
              "    <tr>\n",
              "      <th>8</th>\n",
              "      <td>FDH17</td>\n",
              "      <td>16.200</td>\n",
              "      <td>Regular</td>\n",
              "      <td>0.016687</td>\n",
              "      <td>Frozen Foods</td>\n",
              "      <td>96.9726</td>\n",
              "      <td>OUT045</td>\n",
              "      <td>2002</td>\n",
              "      <td>NaN</td>\n",
              "      <td>Tier 2</td>\n",
              "      <td>Supermarket Type1</td>\n",
              "      <td>1076.5986</td>\n",
              "    </tr>\n",
              "    <tr>\n",
              "      <th>9</th>\n",
              "      <td>FDU28</td>\n",
              "      <td>19.200</td>\n",
              "      <td>Regular</td>\n",
              "      <td>0.094450</td>\n",
              "      <td>Frozen Foods</td>\n",
              "      <td>187.8214</td>\n",
              "      <td>OUT017</td>\n",
              "      <td>2007</td>\n",
              "      <td>NaN</td>\n",
              "      <td>Tier 2</td>\n",
              "      <td>Supermarket Type1</td>\n",
              "      <td>4710.5350</td>\n",
              "    </tr>\n",
              "  </tbody>\n",
              "</table>\n",
              "</div>\n",
              "      <button class=\"colab-df-convert\" onclick=\"convertToInteractive('df-d32ace70-c873-4bd2-a8fc-629e1a664d48')\"\n",
              "              title=\"Convert this dataframe to an interactive table.\"\n",
              "              style=\"display:none;\">\n",
              "        \n",
              "  <svg xmlns=\"http://www.w3.org/2000/svg\" height=\"24px\"viewBox=\"0 0 24 24\"\n",
              "       width=\"24px\">\n",
              "    <path d=\"M0 0h24v24H0V0z\" fill=\"none\"/>\n",
              "    <path d=\"M18.56 5.44l.94 2.06.94-2.06 2.06-.94-2.06-.94-.94-2.06-.94 2.06-2.06.94zm-11 1L8.5 8.5l.94-2.06 2.06-.94-2.06-.94L8.5 2.5l-.94 2.06-2.06.94zm10 10l.94 2.06.94-2.06 2.06-.94-2.06-.94-.94-2.06-.94 2.06-2.06.94z\"/><path d=\"M17.41 7.96l-1.37-1.37c-.4-.4-.92-.59-1.43-.59-.52 0-1.04.2-1.43.59L10.3 9.45l-7.72 7.72c-.78.78-.78 2.05 0 2.83L4 21.41c.39.39.9.59 1.41.59.51 0 1.02-.2 1.41-.59l7.78-7.78 2.81-2.81c.8-.78.8-2.07 0-2.86zM5.41 20L4 18.59l7.72-7.72 1.47 1.35L5.41 20z\"/>\n",
              "  </svg>\n",
              "      </button>\n",
              "      \n",
              "  <style>\n",
              "    .colab-df-container {\n",
              "      display:flex;\n",
              "      flex-wrap:wrap;\n",
              "      gap: 12px;\n",
              "    }\n",
              "\n",
              "    .colab-df-convert {\n",
              "      background-color: #E8F0FE;\n",
              "      border: none;\n",
              "      border-radius: 50%;\n",
              "      cursor: pointer;\n",
              "      display: none;\n",
              "      fill: #1967D2;\n",
              "      height: 32px;\n",
              "      padding: 0 0 0 0;\n",
              "      width: 32px;\n",
              "    }\n",
              "\n",
              "    .colab-df-convert:hover {\n",
              "      background-color: #E2EBFA;\n",
              "      box-shadow: 0px 1px 2px rgba(60, 64, 67, 0.3), 0px 1px 3px 1px rgba(60, 64, 67, 0.15);\n",
              "      fill: #174EA6;\n",
              "    }\n",
              "\n",
              "    [theme=dark] .colab-df-convert {\n",
              "      background-color: #3B4455;\n",
              "      fill: #D2E3FC;\n",
              "    }\n",
              "\n",
              "    [theme=dark] .colab-df-convert:hover {\n",
              "      background-color: #434B5C;\n",
              "      box-shadow: 0px 1px 3px 1px rgba(0, 0, 0, 0.15);\n",
              "      filter: drop-shadow(0px 1px 2px rgba(0, 0, 0, 0.3));\n",
              "      fill: #FFFFFF;\n",
              "    }\n",
              "  </style>\n",
              "\n",
              "      <script>\n",
              "        const buttonEl =\n",
              "          document.querySelector('#df-d32ace70-c873-4bd2-a8fc-629e1a664d48 button.colab-df-convert');\n",
              "        buttonEl.style.display =\n",
              "          google.colab.kernel.accessAllowed ? 'block' : 'none';\n",
              "\n",
              "        async function convertToInteractive(key) {\n",
              "          const element = document.querySelector('#df-d32ace70-c873-4bd2-a8fc-629e1a664d48');\n",
              "          const dataTable =\n",
              "            await google.colab.kernel.invokeFunction('convertToInteractive',\n",
              "                                                     [key], {});\n",
              "          if (!dataTable) return;\n",
              "\n",
              "          const docLinkHtml = 'Like what you see? Visit the ' +\n",
              "            '<a target=\"_blank\" href=https://colab.research.google.com/notebooks/data_table.ipynb>data table notebook</a>'\n",
              "            + ' to learn more about interactive tables.';\n",
              "          element.innerHTML = '';\n",
              "          dataTable['output_type'] = 'display_data';\n",
              "          await google.colab.output.renderOutput(dataTable, element);\n",
              "          const docLink = document.createElement('div');\n",
              "          docLink.innerHTML = docLinkHtml;\n",
              "          element.appendChild(docLink);\n",
              "        }\n",
              "      </script>\n",
              "    </div>\n",
              "  </div>\n",
              "  "
            ]
          },
          "metadata": {},
          "execution_count": 7
        }
      ],
      "source": [
        "df = pd.read_csv(\"/content/train_data.csv\")\n",
        "df_shape = print(df.shape)\n",
        "df.head(10)"
      ],
      "id": "fc7f12ea"
    },
    {
      "cell_type": "code",
      "execution_count": 8,
      "metadata": {
        "colab": {
          "base_uri": "https://localhost:8080/"
        },
        "id": "371fedbb",
        "outputId": "e5449bc7-7b30-4a62-90b4-ecb3938a9a3f"
      },
      "outputs": [
        {
          "output_type": "stream",
          "name": "stdout",
          "text": [
            "<class 'pandas.core.frame.DataFrame'>\n",
            "RangeIndex: 8523 entries, 0 to 8522\n",
            "Data columns (total 12 columns):\n",
            " #   Column                     Non-Null Count  Dtype  \n",
            "---  ------                     --------------  -----  \n",
            " 0   Item_Identifier            8523 non-null   object \n",
            " 1   Item_Weight                7060 non-null   float64\n",
            " 2   Item_Fat_Content           8523 non-null   object \n",
            " 3   Item_Visibility            8523 non-null   float64\n",
            " 4   Item_Type                  8523 non-null   object \n",
            " 5   Item_MRP                   8523 non-null   float64\n",
            " 6   Outlet_Identifier          8523 non-null   object \n",
            " 7   Outlet_Establishment_Year  8523 non-null   int64  \n",
            " 8   Outlet_Size                6113 non-null   object \n",
            " 9   Outlet_Location_Type       8523 non-null   object \n",
            " 10  Outlet_Type                8523 non-null   object \n",
            " 11  Item_Outlet_Sales          8523 non-null   float64\n",
            "dtypes: float64(4), int64(1), object(7)\n",
            "memory usage: 799.2+ KB\n"
          ]
        }
      ],
      "source": [
        "\n",
        "df.info()"
      ],
      "id": "371fedbb"
    },
    {
      "cell_type": "code",
      "execution_count": 9,
      "metadata": {
        "colab": {
          "base_uri": "https://localhost:8080/"
        },
        "id": "4dffb5be",
        "outputId": "cfe0d633-5994-470e-c8c5-197e2cc5d8e6"
      },
      "outputs": [
        {
          "output_type": "execute_result",
          "data": {
            "text/plain": [
              "Item_Identifier                 0\n",
              "Item_Weight                  1463\n",
              "Item_Fat_Content                0\n",
              "Item_Visibility                 0\n",
              "Item_Type                       0\n",
              "Item_MRP                        0\n",
              "Outlet_Identifier               0\n",
              "Outlet_Establishment_Year       0\n",
              "Outlet_Size                  2410\n",
              "Outlet_Location_Type            0\n",
              "Outlet_Type                     0\n",
              "Item_Outlet_Sales               0\n",
              "dtype: int64"
            ]
          },
          "metadata": {},
          "execution_count": 9
        }
      ],
      "source": [
        "#findinf the NaN number\n",
        "df.isnull().sum()"
      ],
      "id": "4dffb5be"
    },
    {
      "cell_type": "code",
      "execution_count": 10,
      "metadata": {
        "colab": {
          "base_uri": "https://localhost:8080/",
          "height": 300
        },
        "id": "37ce3a6f",
        "outputId": "412bd7e5-a27c-4840-ec35-d647c5563e0e"
      },
      "outputs": [
        {
          "output_type": "execute_result",
          "data": {
            "text/plain": [
              "       Item_Weight  Item_Visibility     Item_MRP  Outlet_Establishment_Year  \\\n",
              "count  7060.000000      8523.000000  8523.000000                8523.000000   \n",
              "mean     12.857645         0.066132   140.992782                1997.831867   \n",
              "std       4.643456         0.051598    62.275067                   8.371760   \n",
              "min       4.555000         0.000000    31.290000                1985.000000   \n",
              "25%       8.773750         0.026989    93.826500                1987.000000   \n",
              "50%      12.600000         0.053931   143.012800                1999.000000   \n",
              "75%      16.850000         0.094585   185.643700                2004.000000   \n",
              "max      21.350000         0.328391   266.888400                2009.000000   \n",
              "\n",
              "       Item_Outlet_Sales  \n",
              "count        8523.000000  \n",
              "mean         2181.288914  \n",
              "std          1706.499616  \n",
              "min            33.290000  \n",
              "25%           834.247400  \n",
              "50%          1794.331000  \n",
              "75%          3101.296400  \n",
              "max         13086.964800  "
            ],
            "text/html": [
              "\n",
              "  <div id=\"df-471b3e58-871c-4961-b61f-713adfe65020\">\n",
              "    <div class=\"colab-df-container\">\n",
              "      <div>\n",
              "<style scoped>\n",
              "    .dataframe tbody tr th:only-of-type {\n",
              "        vertical-align: middle;\n",
              "    }\n",
              "\n",
              "    .dataframe tbody tr th {\n",
              "        vertical-align: top;\n",
              "    }\n",
              "\n",
              "    .dataframe thead th {\n",
              "        text-align: right;\n",
              "    }\n",
              "</style>\n",
              "<table border=\"1\" class=\"dataframe\">\n",
              "  <thead>\n",
              "    <tr style=\"text-align: right;\">\n",
              "      <th></th>\n",
              "      <th>Item_Weight</th>\n",
              "      <th>Item_Visibility</th>\n",
              "      <th>Item_MRP</th>\n",
              "      <th>Outlet_Establishment_Year</th>\n",
              "      <th>Item_Outlet_Sales</th>\n",
              "    </tr>\n",
              "  </thead>\n",
              "  <tbody>\n",
              "    <tr>\n",
              "      <th>count</th>\n",
              "      <td>7060.000000</td>\n",
              "      <td>8523.000000</td>\n",
              "      <td>8523.000000</td>\n",
              "      <td>8523.000000</td>\n",
              "      <td>8523.000000</td>\n",
              "    </tr>\n",
              "    <tr>\n",
              "      <th>mean</th>\n",
              "      <td>12.857645</td>\n",
              "      <td>0.066132</td>\n",
              "      <td>140.992782</td>\n",
              "      <td>1997.831867</td>\n",
              "      <td>2181.288914</td>\n",
              "    </tr>\n",
              "    <tr>\n",
              "      <th>std</th>\n",
              "      <td>4.643456</td>\n",
              "      <td>0.051598</td>\n",
              "      <td>62.275067</td>\n",
              "      <td>8.371760</td>\n",
              "      <td>1706.499616</td>\n",
              "    </tr>\n",
              "    <tr>\n",
              "      <th>min</th>\n",
              "      <td>4.555000</td>\n",
              "      <td>0.000000</td>\n",
              "      <td>31.290000</td>\n",
              "      <td>1985.000000</td>\n",
              "      <td>33.290000</td>\n",
              "    </tr>\n",
              "    <tr>\n",
              "      <th>25%</th>\n",
              "      <td>8.773750</td>\n",
              "      <td>0.026989</td>\n",
              "      <td>93.826500</td>\n",
              "      <td>1987.000000</td>\n",
              "      <td>834.247400</td>\n",
              "    </tr>\n",
              "    <tr>\n",
              "      <th>50%</th>\n",
              "      <td>12.600000</td>\n",
              "      <td>0.053931</td>\n",
              "      <td>143.012800</td>\n",
              "      <td>1999.000000</td>\n",
              "      <td>1794.331000</td>\n",
              "    </tr>\n",
              "    <tr>\n",
              "      <th>75%</th>\n",
              "      <td>16.850000</td>\n",
              "      <td>0.094585</td>\n",
              "      <td>185.643700</td>\n",
              "      <td>2004.000000</td>\n",
              "      <td>3101.296400</td>\n",
              "    </tr>\n",
              "    <tr>\n",
              "      <th>max</th>\n",
              "      <td>21.350000</td>\n",
              "      <td>0.328391</td>\n",
              "      <td>266.888400</td>\n",
              "      <td>2009.000000</td>\n",
              "      <td>13086.964800</td>\n",
              "    </tr>\n",
              "  </tbody>\n",
              "</table>\n",
              "</div>\n",
              "      <button class=\"colab-df-convert\" onclick=\"convertToInteractive('df-471b3e58-871c-4961-b61f-713adfe65020')\"\n",
              "              title=\"Convert this dataframe to an interactive table.\"\n",
              "              style=\"display:none;\">\n",
              "        \n",
              "  <svg xmlns=\"http://www.w3.org/2000/svg\" height=\"24px\"viewBox=\"0 0 24 24\"\n",
              "       width=\"24px\">\n",
              "    <path d=\"M0 0h24v24H0V0z\" fill=\"none\"/>\n",
              "    <path d=\"M18.56 5.44l.94 2.06.94-2.06 2.06-.94-2.06-.94-.94-2.06-.94 2.06-2.06.94zm-11 1L8.5 8.5l.94-2.06 2.06-.94-2.06-.94L8.5 2.5l-.94 2.06-2.06.94zm10 10l.94 2.06.94-2.06 2.06-.94-2.06-.94-.94-2.06-.94 2.06-2.06.94z\"/><path d=\"M17.41 7.96l-1.37-1.37c-.4-.4-.92-.59-1.43-.59-.52 0-1.04.2-1.43.59L10.3 9.45l-7.72 7.72c-.78.78-.78 2.05 0 2.83L4 21.41c.39.39.9.59 1.41.59.51 0 1.02-.2 1.41-.59l7.78-7.78 2.81-2.81c.8-.78.8-2.07 0-2.86zM5.41 20L4 18.59l7.72-7.72 1.47 1.35L5.41 20z\"/>\n",
              "  </svg>\n",
              "      </button>\n",
              "      \n",
              "  <style>\n",
              "    .colab-df-container {\n",
              "      display:flex;\n",
              "      flex-wrap:wrap;\n",
              "      gap: 12px;\n",
              "    }\n",
              "\n",
              "    .colab-df-convert {\n",
              "      background-color: #E8F0FE;\n",
              "      border: none;\n",
              "      border-radius: 50%;\n",
              "      cursor: pointer;\n",
              "      display: none;\n",
              "      fill: #1967D2;\n",
              "      height: 32px;\n",
              "      padding: 0 0 0 0;\n",
              "      width: 32px;\n",
              "    }\n",
              "\n",
              "    .colab-df-convert:hover {\n",
              "      background-color: #E2EBFA;\n",
              "      box-shadow: 0px 1px 2px rgba(60, 64, 67, 0.3), 0px 1px 3px 1px rgba(60, 64, 67, 0.15);\n",
              "      fill: #174EA6;\n",
              "    }\n",
              "\n",
              "    [theme=dark] .colab-df-convert {\n",
              "      background-color: #3B4455;\n",
              "      fill: #D2E3FC;\n",
              "    }\n",
              "\n",
              "    [theme=dark] .colab-df-convert:hover {\n",
              "      background-color: #434B5C;\n",
              "      box-shadow: 0px 1px 3px 1px rgba(0, 0, 0, 0.15);\n",
              "      filter: drop-shadow(0px 1px 2px rgba(0, 0, 0, 0.3));\n",
              "      fill: #FFFFFF;\n",
              "    }\n",
              "  </style>\n",
              "\n",
              "      <script>\n",
              "        const buttonEl =\n",
              "          document.querySelector('#df-471b3e58-871c-4961-b61f-713adfe65020 button.colab-df-convert');\n",
              "        buttonEl.style.display =\n",
              "          google.colab.kernel.accessAllowed ? 'block' : 'none';\n",
              "\n",
              "        async function convertToInteractive(key) {\n",
              "          const element = document.querySelector('#df-471b3e58-871c-4961-b61f-713adfe65020');\n",
              "          const dataTable =\n",
              "            await google.colab.kernel.invokeFunction('convertToInteractive',\n",
              "                                                     [key], {});\n",
              "          if (!dataTable) return;\n",
              "\n",
              "          const docLinkHtml = 'Like what you see? Visit the ' +\n",
              "            '<a target=\"_blank\" href=https://colab.research.google.com/notebooks/data_table.ipynb>data table notebook</a>'\n",
              "            + ' to learn more about interactive tables.';\n",
              "          element.innerHTML = '';\n",
              "          dataTable['output_type'] = 'display_data';\n",
              "          await google.colab.output.renderOutput(dataTable, element);\n",
              "          const docLink = document.createElement('div');\n",
              "          docLink.innerHTML = docLinkHtml;\n",
              "          element.appendChild(docLink);\n",
              "        }\n",
              "      </script>\n",
              "    </div>\n",
              "  </div>\n",
              "  "
            ]
          },
          "metadata": {},
          "execution_count": 10
        }
      ],
      "source": [
        "df.describe()"
      ],
      "id": "37ce3a6f"
    },
    {
      "cell_type": "markdown",
      "metadata": {
        "id": "c5e447fe"
      },
      "source": [
        "## Exploratory Data Analysis"
      ],
      "id": "c5e447fe"
    },
    {
      "cell_type": "code",
      "execution_count": 11,
      "metadata": {
        "colab": {
          "base_uri": "https://localhost:8080/",
          "height": 296
        },
        "id": "b190f3b2",
        "outputId": "56de92a6-cd80-48e9-e090-001d4ac66650"
      },
      "outputs": [
        {
          "output_type": "display_data",
          "data": {
            "text/plain": [
              "<Figure size 432x288 with 1 Axes>"
            ],
            "image/png": "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\n"
          },
          "metadata": {
            "needs_background": "light"
          }
        }
      ],
      "source": [
        "plt.hist(df['Item_Outlet_Sales'])\n",
        "plt.xlabel(\"Item_Outlet_Sales\")\n",
        "plt.ylabel(\"Count\")\n",
        "plt.title(\"Distribution of Item Outlet Sales\");"
      ],
      "id": "b190f3b2"
    },
    {
      "cell_type": "markdown",
      "metadata": {
        "id": "c6dcbff7"
      },
      "source": [
        "We can see that the Outlet_sales is normally distributed with right skewness."
      ],
      "id": "c6dcbff7"
    },
    {
      "cell_type": "code",
      "execution_count": 12,
      "metadata": {
        "colab": {
          "base_uri": "https://localhost:8080/",
          "height": 542
        },
        "id": "2efe490b",
        "outputId": "985e194f-06d6-4aea-97fb-e5d50bcd993a"
      },
      "outputs": [
        {
          "output_type": "display_data",
          "data": {
            "text/html": [
              "<html>\n",
              "<head><meta charset=\"utf-8\" /></head>\n",
              "<body>\n",
              "    <div>            <script src=\"https://cdnjs.cloudflare.com/ajax/libs/mathjax/2.7.5/MathJax.js?config=TeX-AMS-MML_SVG\"></script><script type=\"text/javascript\">if (window.MathJax) {MathJax.Hub.Config({SVG: {font: \"STIX-Web\"}});}</script>                <script type=\"text/javascript\">window.PlotlyConfig = {MathJaxConfig: 'local'};</script>\n",
              "        <script src=\"https://cdn.plot.ly/plotly-2.8.3.min.js\"></script>                <div id=\"4fda5614-4705-4714-b803-43489737bfa6\" class=\"plotly-graph-div\" style=\"height:525px; width:100%;\"></div>            <script type=\"text/javascript\">                                    window.PLOTLYENV=window.PLOTLYENV || {};                                    if (document.getElementById(\"4fda5614-4705-4714-b803-43489737bfa6\")) {                    Plotly.newPlot(                        \"4fda5614-4705-4714-b803-43489737bfa6\",                        [{\"alignmentgroup\":\"True\",\"hovertemplate\":\"Outlet_Size=%{x}<br>Item_Outlet_Sales=%{y}<extra></extra>\",\"legendgroup\":\"\",\"marker\":{\"color\":\"#636efa\",\"pattern\":{\"shape\":\"\"}},\"name\":\"\",\"offsetgroup\":\"\",\"orientation\":\"v\",\"showlegend\":false,\"textposition\":\"auto\",\"x\":[\"High\",\"Medium\",\"Small\"],\"xaxis\":\"x\",\"y\":[932,2793,2388],\"yaxis\":\"y\",\"type\":\"bar\"}],                        {\"template\":{\"data\":{\"bar\":[{\"error_x\":{\"color\":\"#2a3f5f\"},\"error_y\":{\"color\":\"#2a3f5f\"},\"marker\":{\"line\":{\"color\":\"#E5ECF6\",\"width\":0.5},\"pattern\":{\"fillmode\":\"overlay\",\"size\":10,\"solidity\":0.2}},\"type\":\"bar\"}],\"barpolar\":[{\"marker\":{\"line\":{\"color\":\"#E5ECF6\",\"width\":0.5},\"pattern\":{\"fillmode\":\"overlay\",\"size\":10,\"solidity\":0.2}},\"type\":\"barpolar\"}],\"carpet\":[{\"aaxis\":{\"endlinecolor\":\"#2a3f5f\",\"gridcolor\":\"white\",\"linecolor\":\"white\",\"minorgridcolor\":\"white\",\"startlinecolor\":\"#2a3f5f\"},\"baxis\":{\"endlinecolor\":\"#2a3f5f\",\"gridcolor\":\"white\",\"linecolor\":\"white\",\"minorgridcolor\":\"white\",\"startlinecolor\":\"#2a3f5f\"},\"type\":\"carpet\"}],\"choropleth\":[{\"colorbar\":{\"outlinewidth\":0,\"ticks\":\"\"},\"type\":\"choropleth\"}],\"contour\":[{\"colorbar\":{\"outlinewidth\":0,\"ticks\":\"\"},\"colorscale\":[[0.0,\"#0d0887\"],[0.1111111111111111,\"#46039f\"],[0.2222222222222222,\"#7201a8\"],[0.3333333333333333,\"#9c179e\"],[0.4444444444444444,\"#bd3786\"],[0.5555555555555556,\"#d8576b\"],[0.6666666666666666,\"#ed7953\"],[0.7777777777777778,\"#fb9f3a\"],[0.8888888888888888,\"#fdca26\"],[1.0,\"#f0f921\"]],\"type\":\"contour\"}],\"contourcarpet\":[{\"colorbar\":{\"outlinewidth\":0,\"ticks\":\"\"},\"type\":\"contourcarpet\"}],\"heatmap\":[{\"colorbar\":{\"outlinewidth\":0,\"ticks\":\"\"},\"colorscale\":[[0.0,\"#0d0887\"],[0.1111111111111111,\"#46039f\"],[0.2222222222222222,\"#7201a8\"],[0.3333333333333333,\"#9c179e\"],[0.4444444444444444,\"#bd3786\"],[0.5555555555555556,\"#d8576b\"],[0.6666666666666666,\"#ed7953\"],[0.7777777777777778,\"#fb9f3a\"],[0.8888888888888888,\"#fdca26\"],[1.0,\"#f0f921\"]],\"type\":\"heatmap\"}],\"heatmapgl\":[{\"colorbar\":{\"outlinewidth\":0,\"ticks\":\"\"},\"colorscale\":[[0.0,\"#0d0887\"],[0.1111111111111111,\"#46039f\"],[0.2222222222222222,\"#7201a8\"],[0.3333333333333333,\"#9c179e\"],[0.4444444444444444,\"#bd3786\"],[0.5555555555555556,\"#d8576b\"],[0.6666666666666666,\"#ed7953\"],[0.7777777777777778,\"#fb9f3a\"],[0.8888888888888888,\"#fdca26\"],[1.0,\"#f0f921\"]],\"type\":\"heatmapgl\"}],\"histogram\":[{\"marker\":{\"pattern\":{\"fillmode\":\"overlay\",\"size\":10,\"solidity\":0.2}},\"type\":\"histogram\"}],\"histogram2d\":[{\"colorbar\":{\"outlinewidth\":0,\"ticks\":\"\"},\"colorscale\":[[0.0,\"#0d0887\"],[0.1111111111111111,\"#46039f\"],[0.2222222222222222,\"#7201a8\"],[0.3333333333333333,\"#9c179e\"],[0.4444444444444444,\"#bd3786\"],[0.5555555555555556,\"#d8576b\"],[0.6666666666666666,\"#ed7953\"],[0.7777777777777778,\"#fb9f3a\"],[0.8888888888888888,\"#fdca26\"],[1.0,\"#f0f921\"]],\"type\":\"histogram2d\"}],\"histogram2dcontour\":[{\"colorbar\":{\"outlinewidth\":0,\"ticks\":\"\"},\"colorscale\":[[0.0,\"#0d0887\"],[0.1111111111111111,\"#46039f\"],[0.2222222222222222,\"#7201a8\"],[0.3333333333333333,\"#9c179e\"],[0.4444444444444444,\"#bd3786\"],[0.5555555555555556,\"#d8576b\"],[0.6666666666666666,\"#ed7953\"],[0.7777777777777778,\"#fb9f3a\"],[0.8888888888888888,\"#fdca26\"],[1.0,\"#f0f921\"]],\"type\":\"histogram2dcontour\"}],\"mesh3d\":[{\"colorbar\":{\"outlinewidth\":0,\"ticks\":\"\"},\"type\":\"mesh3d\"}],\"parcoords\":[{\"line\":{\"colorbar\":{\"outlinewidth\":0,\"ticks\":\"\"}},\"type\":\"parcoords\"}],\"pie\":[{\"automargin\":true,\"type\":\"pie\"}],\"scatter\":[{\"marker\":{\"colorbar\":{\"outlinewidth\":0,\"ticks\":\"\"}},\"type\":\"scatter\"}],\"scatter3d\":[{\"line\":{\"colorbar\":{\"outlinewidth\":0,\"ticks\":\"\"}},\"marker\":{\"colorbar\":{\"outlinewidth\":0,\"ticks\":\"\"}},\"type\":\"scatter3d\"}],\"scattercarpet\":[{\"marker\":{\"colorbar\":{\"outlinewidth\":0,\"ticks\":\"\"}},\"type\":\"scattercarpet\"}],\"scattergeo\":[{\"marker\":{\"colorbar\":{\"outlinewidth\":0,\"ticks\":\"\"}},\"type\":\"scattergeo\"}],\"scattergl\":[{\"marker\":{\"colorbar\":{\"outlinewidth\":0,\"ticks\":\"\"}},\"type\":\"scattergl\"}],\"scattermapbox\":[{\"marker\":{\"colorbar\":{\"outlinewidth\":0,\"ticks\":\"\"}},\"type\":\"scattermapbox\"}],\"scatterpolar\":[{\"marker\":{\"colorbar\":{\"outlinewidth\":0,\"ticks\":\"\"}},\"type\":\"scatterpolar\"}],\"scatterpolargl\":[{\"marker\":{\"colorbar\":{\"outlinewidth\":0,\"ticks\":\"\"}},\"type\":\"scatterpolargl\"}],\"scatterternary\":[{\"marker\":{\"colorbar\":{\"outlinewidth\":0,\"ticks\":\"\"}},\"type\":\"scatterternary\"}],\"surface\":[{\"colorbar\":{\"outlinewidth\":0,\"ticks\":\"\"},\"colorscale\":[[0.0,\"#0d0887\"],[0.1111111111111111,\"#46039f\"],[0.2222222222222222,\"#7201a8\"],[0.3333333333333333,\"#9c179e\"],[0.4444444444444444,\"#bd3786\"],[0.5555555555555556,\"#d8576b\"],[0.6666666666666666,\"#ed7953\"],[0.7777777777777778,\"#fb9f3a\"],[0.8888888888888888,\"#fdca26\"],[1.0,\"#f0f921\"]],\"type\":\"surface\"}],\"table\":[{\"cells\":{\"fill\":{\"color\":\"#EBF0F8\"},\"line\":{\"color\":\"white\"}},\"header\":{\"fill\":{\"color\":\"#C8D4E3\"},\"line\":{\"color\":\"white\"}},\"type\":\"table\"}]},\"layout\":{\"annotationdefaults\":{\"arrowcolor\":\"#2a3f5f\",\"arrowhead\":0,\"arrowwidth\":1},\"autotypenumbers\":\"strict\",\"coloraxis\":{\"colorbar\":{\"outlinewidth\":0,\"ticks\":\"\"}},\"colorscale\":{\"diverging\":[[0,\"#8e0152\"],[0.1,\"#c51b7d\"],[0.2,\"#de77ae\"],[0.3,\"#f1b6da\"],[0.4,\"#fde0ef\"],[0.5,\"#f7f7f7\"],[0.6,\"#e6f5d0\"],[0.7,\"#b8e186\"],[0.8,\"#7fbc41\"],[0.9,\"#4d9221\"],[1,\"#276419\"]],\"sequential\":[[0.0,\"#0d0887\"],[0.1111111111111111,\"#46039f\"],[0.2222222222222222,\"#7201a8\"],[0.3333333333333333,\"#9c179e\"],[0.4444444444444444,\"#bd3786\"],[0.5555555555555556,\"#d8576b\"],[0.6666666666666666,\"#ed7953\"],[0.7777777777777778,\"#fb9f3a\"],[0.8888888888888888,\"#fdca26\"],[1.0,\"#f0f921\"]],\"sequentialminus\":[[0.0,\"#0d0887\"],[0.1111111111111111,\"#46039f\"],[0.2222222222222222,\"#7201a8\"],[0.3333333333333333,\"#9c179e\"],[0.4444444444444444,\"#bd3786\"],[0.5555555555555556,\"#d8576b\"],[0.6666666666666666,\"#ed7953\"],[0.7777777777777778,\"#fb9f3a\"],[0.8888888888888888,\"#fdca26\"],[1.0,\"#f0f921\"]]},\"colorway\":[\"#636efa\",\"#EF553B\",\"#00cc96\",\"#ab63fa\",\"#FFA15A\",\"#19d3f3\",\"#FF6692\",\"#B6E880\",\"#FF97FF\",\"#FECB52\"],\"font\":{\"color\":\"#2a3f5f\"},\"geo\":{\"bgcolor\":\"white\",\"lakecolor\":\"white\",\"landcolor\":\"#E5ECF6\",\"showlakes\":true,\"showland\":true,\"subunitcolor\":\"white\"},\"hoverlabel\":{\"align\":\"left\"},\"hovermode\":\"closest\",\"mapbox\":{\"style\":\"light\"},\"paper_bgcolor\":\"white\",\"plot_bgcolor\":\"#E5ECF6\",\"polar\":{\"angularaxis\":{\"gridcolor\":\"white\",\"linecolor\":\"white\",\"ticks\":\"\"},\"bgcolor\":\"#E5ECF6\",\"radialaxis\":{\"gridcolor\":\"white\",\"linecolor\":\"white\",\"ticks\":\"\"}},\"scene\":{\"xaxis\":{\"backgroundcolor\":\"#E5ECF6\",\"gridcolor\":\"white\",\"gridwidth\":2,\"linecolor\":\"white\",\"showbackground\":true,\"ticks\":\"\",\"zerolinecolor\":\"white\"},\"yaxis\":{\"backgroundcolor\":\"#E5ECF6\",\"gridcolor\":\"white\",\"gridwidth\":2,\"linecolor\":\"white\",\"showbackground\":true,\"ticks\":\"\",\"zerolinecolor\":\"white\"},\"zaxis\":{\"backgroundcolor\":\"#E5ECF6\",\"gridcolor\":\"white\",\"gridwidth\":2,\"linecolor\":\"white\",\"showbackground\":true,\"ticks\":\"\",\"zerolinecolor\":\"white\"}},\"shapedefaults\":{\"line\":{\"color\":\"#2a3f5f\"}},\"ternary\":{\"aaxis\":{\"gridcolor\":\"white\",\"linecolor\":\"white\",\"ticks\":\"\"},\"baxis\":{\"gridcolor\":\"white\",\"linecolor\":\"white\",\"ticks\":\"\"},\"bgcolor\":\"#E5ECF6\",\"caxis\":{\"gridcolor\":\"white\",\"linecolor\":\"white\",\"ticks\":\"\"}},\"title\":{\"x\":0.05},\"xaxis\":{\"automargin\":true,\"gridcolor\":\"white\",\"linecolor\":\"white\",\"ticks\":\"\",\"title\":{\"standoff\":15},\"zerolinecolor\":\"white\",\"zerolinewidth\":2},\"yaxis\":{\"automargin\":true,\"gridcolor\":\"white\",\"linecolor\":\"white\",\"ticks\":\"\",\"title\":{\"standoff\":15},\"zerolinecolor\":\"white\",\"zerolinewidth\":2}}},\"xaxis\":{\"anchor\":\"y\",\"domain\":[0.0,1.0],\"title\":{\"text\":\"Outlet_Size\"}},\"yaxis\":{\"anchor\":\"x\",\"domain\":[0.0,1.0],\"title\":{\"text\":\"Item_Outlet_Sales\"}},\"legend\":{\"tracegroupgap\":0},\"margin\":{\"t\":60},\"barmode\":\"relative\"},                        {\"responsive\": true}                    ).then(function(){\n",
              "                            \n",
              "var gd = document.getElementById('4fda5614-4705-4714-b803-43489737bfa6');\n",
              "var x = new MutationObserver(function (mutations, observer) {{\n",
              "        var display = window.getComputedStyle(gd).display;\n",
              "        if (!display || display === 'none') {{\n",
              "            console.log([gd, 'removed!']);\n",
              "            Plotly.purge(gd);\n",
              "            observer.disconnect();\n",
              "        }}\n",
              "}});\n",
              "\n",
              "// Listen for the removal of the full notebook cells\n",
              "var notebookContainer = gd.closest('#notebook-container');\n",
              "if (notebookContainer) {{\n",
              "    x.observe(notebookContainer, {childList: true});\n",
              "}}\n",
              "\n",
              "// Listen for the clearing of the current output cell\n",
              "var outputEl = gd.closest('.output');\n",
              "if (outputEl) {{\n",
              "    x.observe(outputEl, {childList: true});\n",
              "}}\n",
              "\n",
              "                        })                };                            </script>        </div>\n",
              "</body>\n",
              "</html>"
            ]
          },
          "metadata": {}
        }
      ],
      "source": [
        "size = df.groupby(\"Outlet_Size\").count().reset_index()\n",
        "fig = px.bar(size,x = \"Outlet_Size\", y = \"Item_Outlet_Sales\")\n",
        "fig.show()"
      ],
      "id": "2efe490b"
    },
    {
      "cell_type": "code",
      "execution_count": 13,
      "metadata": {
        "colab": {
          "base_uri": "https://localhost:8080/",
          "height": 542
        },
        "id": "fc68758c",
        "outputId": "81a6f326-f83e-41e3-a8b3-33f63b46963d"
      },
      "outputs": [
        {
          "output_type": "display_data",
          "data": {
            "text/html": [
              "<html>\n",
              "<head><meta charset=\"utf-8\" /></head>\n",
              "<body>\n",
              "    <div>            <script src=\"https://cdnjs.cloudflare.com/ajax/libs/mathjax/2.7.5/MathJax.js?config=TeX-AMS-MML_SVG\"></script><script type=\"text/javascript\">if (window.MathJax) {MathJax.Hub.Config({SVG: {font: \"STIX-Web\"}});}</script>                <script type=\"text/javascript\">window.PlotlyConfig = {MathJaxConfig: 'local'};</script>\n",
              "        <script src=\"https://cdn.plot.ly/plotly-2.8.3.min.js\"></script>                <div id=\"3f711003-e43e-4c1c-8c0d-e76b16f215fa\" class=\"plotly-graph-div\" style=\"height:525px; width:100%;\"></div>            <script type=\"text/javascript\">                                    window.PLOTLYENV=window.PLOTLYENV || {};                                    if (document.getElementById(\"3f711003-e43e-4c1c-8c0d-e76b16f215fa\")) {                    Plotly.newPlot(                        \"3f711003-e43e-4c1c-8c0d-e76b16f215fa\",                        [{\"alignmentgroup\":\"True\",\"hovertemplate\":\"Outlet_Location_Type=%{x}<br>Item_Outlet_Sales=%{y}<extra></extra>\",\"legendgroup\":\"\",\"marker\":{\"color\":\"#636efa\",\"pattern\":{\"shape\":\"\"}},\"name\":\"\",\"offsetgroup\":\"\",\"orientation\":\"v\",\"showlegend\":false,\"textposition\":\"auto\",\"x\":[\"Tier 1\",\"Tier 2\",\"Tier 3\"],\"xaxis\":\"x\",\"y\":[2388,2785,3350],\"yaxis\":\"y\",\"type\":\"bar\"}],                        {\"template\":{\"data\":{\"bar\":[{\"error_x\":{\"color\":\"#2a3f5f\"},\"error_y\":{\"color\":\"#2a3f5f\"},\"marker\":{\"line\":{\"color\":\"#E5ECF6\",\"width\":0.5},\"pattern\":{\"fillmode\":\"overlay\",\"size\":10,\"solidity\":0.2}},\"type\":\"bar\"}],\"barpolar\":[{\"marker\":{\"line\":{\"color\":\"#E5ECF6\",\"width\":0.5},\"pattern\":{\"fillmode\":\"overlay\",\"size\":10,\"solidity\":0.2}},\"type\":\"barpolar\"}],\"carpet\":[{\"aaxis\":{\"endlinecolor\":\"#2a3f5f\",\"gridcolor\":\"white\",\"linecolor\":\"white\",\"minorgridcolor\":\"white\",\"startlinecolor\":\"#2a3f5f\"},\"baxis\":{\"endlinecolor\":\"#2a3f5f\",\"gridcolor\":\"white\",\"linecolor\":\"white\",\"minorgridcolor\":\"white\",\"startlinecolor\":\"#2a3f5f\"},\"type\":\"carpet\"}],\"choropleth\":[{\"colorbar\":{\"outlinewidth\":0,\"ticks\":\"\"},\"type\":\"choropleth\"}],\"contour\":[{\"colorbar\":{\"outlinewidth\":0,\"ticks\":\"\"},\"colorscale\":[[0.0,\"#0d0887\"],[0.1111111111111111,\"#46039f\"],[0.2222222222222222,\"#7201a8\"],[0.3333333333333333,\"#9c179e\"],[0.4444444444444444,\"#bd3786\"],[0.5555555555555556,\"#d8576b\"],[0.6666666666666666,\"#ed7953\"],[0.7777777777777778,\"#fb9f3a\"],[0.8888888888888888,\"#fdca26\"],[1.0,\"#f0f921\"]],\"type\":\"contour\"}],\"contourcarpet\":[{\"colorbar\":{\"outlinewidth\":0,\"ticks\":\"\"},\"type\":\"contourcarpet\"}],\"heatmap\":[{\"colorbar\":{\"outlinewidth\":0,\"ticks\":\"\"},\"colorscale\":[[0.0,\"#0d0887\"],[0.1111111111111111,\"#46039f\"],[0.2222222222222222,\"#7201a8\"],[0.3333333333333333,\"#9c179e\"],[0.4444444444444444,\"#bd3786\"],[0.5555555555555556,\"#d8576b\"],[0.6666666666666666,\"#ed7953\"],[0.7777777777777778,\"#fb9f3a\"],[0.8888888888888888,\"#fdca26\"],[1.0,\"#f0f921\"]],\"type\":\"heatmap\"}],\"heatmapgl\":[{\"colorbar\":{\"outlinewidth\":0,\"ticks\":\"\"},\"colorscale\":[[0.0,\"#0d0887\"],[0.1111111111111111,\"#46039f\"],[0.2222222222222222,\"#7201a8\"],[0.3333333333333333,\"#9c179e\"],[0.4444444444444444,\"#bd3786\"],[0.5555555555555556,\"#d8576b\"],[0.6666666666666666,\"#ed7953\"],[0.7777777777777778,\"#fb9f3a\"],[0.8888888888888888,\"#fdca26\"],[1.0,\"#f0f921\"]],\"type\":\"heatmapgl\"}],\"histogram\":[{\"marker\":{\"pattern\":{\"fillmode\":\"overlay\",\"size\":10,\"solidity\":0.2}},\"type\":\"histogram\"}],\"histogram2d\":[{\"colorbar\":{\"outlinewidth\":0,\"ticks\":\"\"},\"colorscale\":[[0.0,\"#0d0887\"],[0.1111111111111111,\"#46039f\"],[0.2222222222222222,\"#7201a8\"],[0.3333333333333333,\"#9c179e\"],[0.4444444444444444,\"#bd3786\"],[0.5555555555555556,\"#d8576b\"],[0.6666666666666666,\"#ed7953\"],[0.7777777777777778,\"#fb9f3a\"],[0.8888888888888888,\"#fdca26\"],[1.0,\"#f0f921\"]],\"type\":\"histogram2d\"}],\"histogram2dcontour\":[{\"colorbar\":{\"outlinewidth\":0,\"ticks\":\"\"},\"colorscale\":[[0.0,\"#0d0887\"],[0.1111111111111111,\"#46039f\"],[0.2222222222222222,\"#7201a8\"],[0.3333333333333333,\"#9c179e\"],[0.4444444444444444,\"#bd3786\"],[0.5555555555555556,\"#d8576b\"],[0.6666666666666666,\"#ed7953\"],[0.7777777777777778,\"#fb9f3a\"],[0.8888888888888888,\"#fdca26\"],[1.0,\"#f0f921\"]],\"type\":\"histogram2dcontour\"}],\"mesh3d\":[{\"colorbar\":{\"outlinewidth\":0,\"ticks\":\"\"},\"type\":\"mesh3d\"}],\"parcoords\":[{\"line\":{\"colorbar\":{\"outlinewidth\":0,\"ticks\":\"\"}},\"type\":\"parcoords\"}],\"pie\":[{\"automargin\":true,\"type\":\"pie\"}],\"scatter\":[{\"marker\":{\"colorbar\":{\"outlinewidth\":0,\"ticks\":\"\"}},\"type\":\"scatter\"}],\"scatter3d\":[{\"line\":{\"colorbar\":{\"outlinewidth\":0,\"ticks\":\"\"}},\"marker\":{\"colorbar\":{\"outlinewidth\":0,\"ticks\":\"\"}},\"type\":\"scatter3d\"}],\"scattercarpet\":[{\"marker\":{\"colorbar\":{\"outlinewidth\":0,\"ticks\":\"\"}},\"type\":\"scattercarpet\"}],\"scattergeo\":[{\"marker\":{\"colorbar\":{\"outlinewidth\":0,\"ticks\":\"\"}},\"type\":\"scattergeo\"}],\"scattergl\":[{\"marker\":{\"colorbar\":{\"outlinewidth\":0,\"ticks\":\"\"}},\"type\":\"scattergl\"}],\"scattermapbox\":[{\"marker\":{\"colorbar\":{\"outlinewidth\":0,\"ticks\":\"\"}},\"type\":\"scattermapbox\"}],\"scatterpolar\":[{\"marker\":{\"colorbar\":{\"outlinewidth\":0,\"ticks\":\"\"}},\"type\":\"scatterpolar\"}],\"scatterpolargl\":[{\"marker\":{\"colorbar\":{\"outlinewidth\":0,\"ticks\":\"\"}},\"type\":\"scatterpolargl\"}],\"scatterternary\":[{\"marker\":{\"colorbar\":{\"outlinewidth\":0,\"ticks\":\"\"}},\"type\":\"scatterternary\"}],\"surface\":[{\"colorbar\":{\"outlinewidth\":0,\"ticks\":\"\"},\"colorscale\":[[0.0,\"#0d0887\"],[0.1111111111111111,\"#46039f\"],[0.2222222222222222,\"#7201a8\"],[0.3333333333333333,\"#9c179e\"],[0.4444444444444444,\"#bd3786\"],[0.5555555555555556,\"#d8576b\"],[0.6666666666666666,\"#ed7953\"],[0.7777777777777778,\"#fb9f3a\"],[0.8888888888888888,\"#fdca26\"],[1.0,\"#f0f921\"]],\"type\":\"surface\"}],\"table\":[{\"cells\":{\"fill\":{\"color\":\"#EBF0F8\"},\"line\":{\"color\":\"white\"}},\"header\":{\"fill\":{\"color\":\"#C8D4E3\"},\"line\":{\"color\":\"white\"}},\"type\":\"table\"}]},\"layout\":{\"annotationdefaults\":{\"arrowcolor\":\"#2a3f5f\",\"arrowhead\":0,\"arrowwidth\":1},\"autotypenumbers\":\"strict\",\"coloraxis\":{\"colorbar\":{\"outlinewidth\":0,\"ticks\":\"\"}},\"colorscale\":{\"diverging\":[[0,\"#8e0152\"],[0.1,\"#c51b7d\"],[0.2,\"#de77ae\"],[0.3,\"#f1b6da\"],[0.4,\"#fde0ef\"],[0.5,\"#f7f7f7\"],[0.6,\"#e6f5d0\"],[0.7,\"#b8e186\"],[0.8,\"#7fbc41\"],[0.9,\"#4d9221\"],[1,\"#276419\"]],\"sequential\":[[0.0,\"#0d0887\"],[0.1111111111111111,\"#46039f\"],[0.2222222222222222,\"#7201a8\"],[0.3333333333333333,\"#9c179e\"],[0.4444444444444444,\"#bd3786\"],[0.5555555555555556,\"#d8576b\"],[0.6666666666666666,\"#ed7953\"],[0.7777777777777778,\"#fb9f3a\"],[0.8888888888888888,\"#fdca26\"],[1.0,\"#f0f921\"]],\"sequentialminus\":[[0.0,\"#0d0887\"],[0.1111111111111111,\"#46039f\"],[0.2222222222222222,\"#7201a8\"],[0.3333333333333333,\"#9c179e\"],[0.4444444444444444,\"#bd3786\"],[0.5555555555555556,\"#d8576b\"],[0.6666666666666666,\"#ed7953\"],[0.7777777777777778,\"#fb9f3a\"],[0.8888888888888888,\"#fdca26\"],[1.0,\"#f0f921\"]]},\"colorway\":[\"#636efa\",\"#EF553B\",\"#00cc96\",\"#ab63fa\",\"#FFA15A\",\"#19d3f3\",\"#FF6692\",\"#B6E880\",\"#FF97FF\",\"#FECB52\"],\"font\":{\"color\":\"#2a3f5f\"},\"geo\":{\"bgcolor\":\"white\",\"lakecolor\":\"white\",\"landcolor\":\"#E5ECF6\",\"showlakes\":true,\"showland\":true,\"subunitcolor\":\"white\"},\"hoverlabel\":{\"align\":\"left\"},\"hovermode\":\"closest\",\"mapbox\":{\"style\":\"light\"},\"paper_bgcolor\":\"white\",\"plot_bgcolor\":\"#E5ECF6\",\"polar\":{\"angularaxis\":{\"gridcolor\":\"white\",\"linecolor\":\"white\",\"ticks\":\"\"},\"bgcolor\":\"#E5ECF6\",\"radialaxis\":{\"gridcolor\":\"white\",\"linecolor\":\"white\",\"ticks\":\"\"}},\"scene\":{\"xaxis\":{\"backgroundcolor\":\"#E5ECF6\",\"gridcolor\":\"white\",\"gridwidth\":2,\"linecolor\":\"white\",\"showbackground\":true,\"ticks\":\"\",\"zerolinecolor\":\"white\"},\"yaxis\":{\"backgroundcolor\":\"#E5ECF6\",\"gridcolor\":\"white\",\"gridwidth\":2,\"linecolor\":\"white\",\"showbackground\":true,\"ticks\":\"\",\"zerolinecolor\":\"white\"},\"zaxis\":{\"backgroundcolor\":\"#E5ECF6\",\"gridcolor\":\"white\",\"gridwidth\":2,\"linecolor\":\"white\",\"showbackground\":true,\"ticks\":\"\",\"zerolinecolor\":\"white\"}},\"shapedefaults\":{\"line\":{\"color\":\"#2a3f5f\"}},\"ternary\":{\"aaxis\":{\"gridcolor\":\"white\",\"linecolor\":\"white\",\"ticks\":\"\"},\"baxis\":{\"gridcolor\":\"white\",\"linecolor\":\"white\",\"ticks\":\"\"},\"bgcolor\":\"#E5ECF6\",\"caxis\":{\"gridcolor\":\"white\",\"linecolor\":\"white\",\"ticks\":\"\"}},\"title\":{\"x\":0.05},\"xaxis\":{\"automargin\":true,\"gridcolor\":\"white\",\"linecolor\":\"white\",\"ticks\":\"\",\"title\":{\"standoff\":15},\"zerolinecolor\":\"white\",\"zerolinewidth\":2},\"yaxis\":{\"automargin\":true,\"gridcolor\":\"white\",\"linecolor\":\"white\",\"ticks\":\"\",\"title\":{\"standoff\":15},\"zerolinecolor\":\"white\",\"zerolinewidth\":2}}},\"xaxis\":{\"anchor\":\"y\",\"domain\":[0.0,1.0],\"title\":{\"text\":\"Outlet_Location_Type\"}},\"yaxis\":{\"anchor\":\"x\",\"domain\":[0.0,1.0],\"title\":{\"text\":\"Item_Outlet_Sales\"}},\"legend\":{\"tracegroupgap\":0},\"margin\":{\"t\":60},\"barmode\":\"relative\"},                        {\"responsive\": true}                    ).then(function(){\n",
              "                            \n",
              "var gd = document.getElementById('3f711003-e43e-4c1c-8c0d-e76b16f215fa');\n",
              "var x = new MutationObserver(function (mutations, observer) {{\n",
              "        var display = window.getComputedStyle(gd).display;\n",
              "        if (!display || display === 'none') {{\n",
              "            console.log([gd, 'removed!']);\n",
              "            Plotly.purge(gd);\n",
              "            observer.disconnect();\n",
              "        }}\n",
              "}});\n",
              "\n",
              "// Listen for the removal of the full notebook cells\n",
              "var notebookContainer = gd.closest('#notebook-container');\n",
              "if (notebookContainer) {{\n",
              "    x.observe(notebookContainer, {childList: true});\n",
              "}}\n",
              "\n",
              "// Listen for the clearing of the current output cell\n",
              "var outputEl = gd.closest('.output');\n",
              "if (outputEl) {{\n",
              "    x.observe(outputEl, {childList: true});\n",
              "}}\n",
              "\n",
              "                        })                };                            </script>        </div>\n",
              "</body>\n",
              "</html>"
            ]
          },
          "metadata": {}
        }
      ],
      "source": [
        "location = df.groupby(\"Outlet_Location_Type\").count().reset_index()\n",
        "fig = px.bar(location,x = \"Outlet_Location_Type\", y = \"Item_Outlet_Sales\")\n",
        "fig.show();"
      ],
      "id": "fc68758c"
    },
    {
      "cell_type": "code",
      "execution_count": 14,
      "metadata": {
        "colab": {
          "base_uri": "https://localhost:8080/",
          "height": 542
        },
        "id": "cee67483",
        "outputId": "3ee8aa60-bf0e-4131-a7a5-af4c68bf1a5e"
      },
      "outputs": [
        {
          "output_type": "display_data",
          "data": {
            "text/html": [
              "<html>\n",
              "<head><meta charset=\"utf-8\" /></head>\n",
              "<body>\n",
              "    <div>            <script src=\"https://cdnjs.cloudflare.com/ajax/libs/mathjax/2.7.5/MathJax.js?config=TeX-AMS-MML_SVG\"></script><script type=\"text/javascript\">if (window.MathJax) {MathJax.Hub.Config({SVG: {font: \"STIX-Web\"}});}</script>                <script type=\"text/javascript\">window.PlotlyConfig = {MathJaxConfig: 'local'};</script>\n",
              "        <script src=\"https://cdn.plot.ly/plotly-2.8.3.min.js\"></script>                <div id=\"749dc393-2dfe-4361-832f-ac85a26ba702\" class=\"plotly-graph-div\" style=\"height:525px; width:100%;\"></div>            <script type=\"text/javascript\">                                    window.PLOTLYENV=window.PLOTLYENV || {};                                    if (document.getElementById(\"749dc393-2dfe-4361-832f-ac85a26ba702\")) {                    Plotly.newPlot(                        \"749dc393-2dfe-4361-832f-ac85a26ba702\",                        [{\"alignmentgroup\":\"True\",\"hovertemplate\":\"Outlet_Type=%{x}<br>Item_Outlet_Sales=%{y}<extra></extra>\",\"legendgroup\":\"\",\"marker\":{\"color\":\"#636efa\",\"pattern\":{\"shape\":\"\"}},\"name\":\"\",\"offsetgroup\":\"\",\"orientation\":\"v\",\"showlegend\":false,\"textposition\":\"auto\",\"x\":[\"Grocery Store\",\"Supermarket Type1\",\"Supermarket Type2\",\"Supermarket Type3\"],\"xaxis\":\"x\",\"y\":[1083,5577,928,935],\"yaxis\":\"y\",\"type\":\"bar\"}],                        {\"template\":{\"data\":{\"bar\":[{\"error_x\":{\"color\":\"#2a3f5f\"},\"error_y\":{\"color\":\"#2a3f5f\"},\"marker\":{\"line\":{\"color\":\"#E5ECF6\",\"width\":0.5},\"pattern\":{\"fillmode\":\"overlay\",\"size\":10,\"solidity\":0.2}},\"type\":\"bar\"}],\"barpolar\":[{\"marker\":{\"line\":{\"color\":\"#E5ECF6\",\"width\":0.5},\"pattern\":{\"fillmode\":\"overlay\",\"size\":10,\"solidity\":0.2}},\"type\":\"barpolar\"}],\"carpet\":[{\"aaxis\":{\"endlinecolor\":\"#2a3f5f\",\"gridcolor\":\"white\",\"linecolor\":\"white\",\"minorgridcolor\":\"white\",\"startlinecolor\":\"#2a3f5f\"},\"baxis\":{\"endlinecolor\":\"#2a3f5f\",\"gridcolor\":\"white\",\"linecolor\":\"white\",\"minorgridcolor\":\"white\",\"startlinecolor\":\"#2a3f5f\"},\"type\":\"carpet\"}],\"choropleth\":[{\"colorbar\":{\"outlinewidth\":0,\"ticks\":\"\"},\"type\":\"choropleth\"}],\"contour\":[{\"colorbar\":{\"outlinewidth\":0,\"ticks\":\"\"},\"colorscale\":[[0.0,\"#0d0887\"],[0.1111111111111111,\"#46039f\"],[0.2222222222222222,\"#7201a8\"],[0.3333333333333333,\"#9c179e\"],[0.4444444444444444,\"#bd3786\"],[0.5555555555555556,\"#d8576b\"],[0.6666666666666666,\"#ed7953\"],[0.7777777777777778,\"#fb9f3a\"],[0.8888888888888888,\"#fdca26\"],[1.0,\"#f0f921\"]],\"type\":\"contour\"}],\"contourcarpet\":[{\"colorbar\":{\"outlinewidth\":0,\"ticks\":\"\"},\"type\":\"contourcarpet\"}],\"heatmap\":[{\"colorbar\":{\"outlinewidth\":0,\"ticks\":\"\"},\"colorscale\":[[0.0,\"#0d0887\"],[0.1111111111111111,\"#46039f\"],[0.2222222222222222,\"#7201a8\"],[0.3333333333333333,\"#9c179e\"],[0.4444444444444444,\"#bd3786\"],[0.5555555555555556,\"#d8576b\"],[0.6666666666666666,\"#ed7953\"],[0.7777777777777778,\"#fb9f3a\"],[0.8888888888888888,\"#fdca26\"],[1.0,\"#f0f921\"]],\"type\":\"heatmap\"}],\"heatmapgl\":[{\"colorbar\":{\"outlinewidth\":0,\"ticks\":\"\"},\"colorscale\":[[0.0,\"#0d0887\"],[0.1111111111111111,\"#46039f\"],[0.2222222222222222,\"#7201a8\"],[0.3333333333333333,\"#9c179e\"],[0.4444444444444444,\"#bd3786\"],[0.5555555555555556,\"#d8576b\"],[0.6666666666666666,\"#ed7953\"],[0.7777777777777778,\"#fb9f3a\"],[0.8888888888888888,\"#fdca26\"],[1.0,\"#f0f921\"]],\"type\":\"heatmapgl\"}],\"histogram\":[{\"marker\":{\"pattern\":{\"fillmode\":\"overlay\",\"size\":10,\"solidity\":0.2}},\"type\":\"histogram\"}],\"histogram2d\":[{\"colorbar\":{\"outlinewidth\":0,\"ticks\":\"\"},\"colorscale\":[[0.0,\"#0d0887\"],[0.1111111111111111,\"#46039f\"],[0.2222222222222222,\"#7201a8\"],[0.3333333333333333,\"#9c179e\"],[0.4444444444444444,\"#bd3786\"],[0.5555555555555556,\"#d8576b\"],[0.6666666666666666,\"#ed7953\"],[0.7777777777777778,\"#fb9f3a\"],[0.8888888888888888,\"#fdca26\"],[1.0,\"#f0f921\"]],\"type\":\"histogram2d\"}],\"histogram2dcontour\":[{\"colorbar\":{\"outlinewidth\":0,\"ticks\":\"\"},\"colorscale\":[[0.0,\"#0d0887\"],[0.1111111111111111,\"#46039f\"],[0.2222222222222222,\"#7201a8\"],[0.3333333333333333,\"#9c179e\"],[0.4444444444444444,\"#bd3786\"],[0.5555555555555556,\"#d8576b\"],[0.6666666666666666,\"#ed7953\"],[0.7777777777777778,\"#fb9f3a\"],[0.8888888888888888,\"#fdca26\"],[1.0,\"#f0f921\"]],\"type\":\"histogram2dcontour\"}],\"mesh3d\":[{\"colorbar\":{\"outlinewidth\":0,\"ticks\":\"\"},\"type\":\"mesh3d\"}],\"parcoords\":[{\"line\":{\"colorbar\":{\"outlinewidth\":0,\"ticks\":\"\"}},\"type\":\"parcoords\"}],\"pie\":[{\"automargin\":true,\"type\":\"pie\"}],\"scatter\":[{\"marker\":{\"colorbar\":{\"outlinewidth\":0,\"ticks\":\"\"}},\"type\":\"scatter\"}],\"scatter3d\":[{\"line\":{\"colorbar\":{\"outlinewidth\":0,\"ticks\":\"\"}},\"marker\":{\"colorbar\":{\"outlinewidth\":0,\"ticks\":\"\"}},\"type\":\"scatter3d\"}],\"scattercarpet\":[{\"marker\":{\"colorbar\":{\"outlinewidth\":0,\"ticks\":\"\"}},\"type\":\"scattercarpet\"}],\"scattergeo\":[{\"marker\":{\"colorbar\":{\"outlinewidth\":0,\"ticks\":\"\"}},\"type\":\"scattergeo\"}],\"scattergl\":[{\"marker\":{\"colorbar\":{\"outlinewidth\":0,\"ticks\":\"\"}},\"type\":\"scattergl\"}],\"scattermapbox\":[{\"marker\":{\"colorbar\":{\"outlinewidth\":0,\"ticks\":\"\"}},\"type\":\"scattermapbox\"}],\"scatterpolar\":[{\"marker\":{\"colorbar\":{\"outlinewidth\":0,\"ticks\":\"\"}},\"type\":\"scatterpolar\"}],\"scatterpolargl\":[{\"marker\":{\"colorbar\":{\"outlinewidth\":0,\"ticks\":\"\"}},\"type\":\"scatterpolargl\"}],\"scatterternary\":[{\"marker\":{\"colorbar\":{\"outlinewidth\":0,\"ticks\":\"\"}},\"type\":\"scatterternary\"}],\"surface\":[{\"colorbar\":{\"outlinewidth\":0,\"ticks\":\"\"},\"colorscale\":[[0.0,\"#0d0887\"],[0.1111111111111111,\"#46039f\"],[0.2222222222222222,\"#7201a8\"],[0.3333333333333333,\"#9c179e\"],[0.4444444444444444,\"#bd3786\"],[0.5555555555555556,\"#d8576b\"],[0.6666666666666666,\"#ed7953\"],[0.7777777777777778,\"#fb9f3a\"],[0.8888888888888888,\"#fdca26\"],[1.0,\"#f0f921\"]],\"type\":\"surface\"}],\"table\":[{\"cells\":{\"fill\":{\"color\":\"#EBF0F8\"},\"line\":{\"color\":\"white\"}},\"header\":{\"fill\":{\"color\":\"#C8D4E3\"},\"line\":{\"color\":\"white\"}},\"type\":\"table\"}]},\"layout\":{\"annotationdefaults\":{\"arrowcolor\":\"#2a3f5f\",\"arrowhead\":0,\"arrowwidth\":1},\"autotypenumbers\":\"strict\",\"coloraxis\":{\"colorbar\":{\"outlinewidth\":0,\"ticks\":\"\"}},\"colorscale\":{\"diverging\":[[0,\"#8e0152\"],[0.1,\"#c51b7d\"],[0.2,\"#de77ae\"],[0.3,\"#f1b6da\"],[0.4,\"#fde0ef\"],[0.5,\"#f7f7f7\"],[0.6,\"#e6f5d0\"],[0.7,\"#b8e186\"],[0.8,\"#7fbc41\"],[0.9,\"#4d9221\"],[1,\"#276419\"]],\"sequential\":[[0.0,\"#0d0887\"],[0.1111111111111111,\"#46039f\"],[0.2222222222222222,\"#7201a8\"],[0.3333333333333333,\"#9c179e\"],[0.4444444444444444,\"#bd3786\"],[0.5555555555555556,\"#d8576b\"],[0.6666666666666666,\"#ed7953\"],[0.7777777777777778,\"#fb9f3a\"],[0.8888888888888888,\"#fdca26\"],[1.0,\"#f0f921\"]],\"sequentialminus\":[[0.0,\"#0d0887\"],[0.1111111111111111,\"#46039f\"],[0.2222222222222222,\"#7201a8\"],[0.3333333333333333,\"#9c179e\"],[0.4444444444444444,\"#bd3786\"],[0.5555555555555556,\"#d8576b\"],[0.6666666666666666,\"#ed7953\"],[0.7777777777777778,\"#fb9f3a\"],[0.8888888888888888,\"#fdca26\"],[1.0,\"#f0f921\"]]},\"colorway\":[\"#636efa\",\"#EF553B\",\"#00cc96\",\"#ab63fa\",\"#FFA15A\",\"#19d3f3\",\"#FF6692\",\"#B6E880\",\"#FF97FF\",\"#FECB52\"],\"font\":{\"color\":\"#2a3f5f\"},\"geo\":{\"bgcolor\":\"white\",\"lakecolor\":\"white\",\"landcolor\":\"#E5ECF6\",\"showlakes\":true,\"showland\":true,\"subunitcolor\":\"white\"},\"hoverlabel\":{\"align\":\"left\"},\"hovermode\":\"closest\",\"mapbox\":{\"style\":\"light\"},\"paper_bgcolor\":\"white\",\"plot_bgcolor\":\"#E5ECF6\",\"polar\":{\"angularaxis\":{\"gridcolor\":\"white\",\"linecolor\":\"white\",\"ticks\":\"\"},\"bgcolor\":\"#E5ECF6\",\"radialaxis\":{\"gridcolor\":\"white\",\"linecolor\":\"white\",\"ticks\":\"\"}},\"scene\":{\"xaxis\":{\"backgroundcolor\":\"#E5ECF6\",\"gridcolor\":\"white\",\"gridwidth\":2,\"linecolor\":\"white\",\"showbackground\":true,\"ticks\":\"\",\"zerolinecolor\":\"white\"},\"yaxis\":{\"backgroundcolor\":\"#E5ECF6\",\"gridcolor\":\"white\",\"gridwidth\":2,\"linecolor\":\"white\",\"showbackground\":true,\"ticks\":\"\",\"zerolinecolor\":\"white\"},\"zaxis\":{\"backgroundcolor\":\"#E5ECF6\",\"gridcolor\":\"white\",\"gridwidth\":2,\"linecolor\":\"white\",\"showbackground\":true,\"ticks\":\"\",\"zerolinecolor\":\"white\"}},\"shapedefaults\":{\"line\":{\"color\":\"#2a3f5f\"}},\"ternary\":{\"aaxis\":{\"gridcolor\":\"white\",\"linecolor\":\"white\",\"ticks\":\"\"},\"baxis\":{\"gridcolor\":\"white\",\"linecolor\":\"white\",\"ticks\":\"\"},\"bgcolor\":\"#E5ECF6\",\"caxis\":{\"gridcolor\":\"white\",\"linecolor\":\"white\",\"ticks\":\"\"}},\"title\":{\"x\":0.05},\"xaxis\":{\"automargin\":true,\"gridcolor\":\"white\",\"linecolor\":\"white\",\"ticks\":\"\",\"title\":{\"standoff\":15},\"zerolinecolor\":\"white\",\"zerolinewidth\":2},\"yaxis\":{\"automargin\":true,\"gridcolor\":\"white\",\"linecolor\":\"white\",\"ticks\":\"\",\"title\":{\"standoff\":15},\"zerolinecolor\":\"white\",\"zerolinewidth\":2}}},\"xaxis\":{\"anchor\":\"y\",\"domain\":[0.0,1.0],\"title\":{\"text\":\"Outlet_Type\"}},\"yaxis\":{\"anchor\":\"x\",\"domain\":[0.0,1.0],\"title\":{\"text\":\"Item_Outlet_Sales\"}},\"legend\":{\"tracegroupgap\":0},\"margin\":{\"t\":60},\"barmode\":\"relative\"},                        {\"responsive\": true}                    ).then(function(){\n",
              "                            \n",
              "var gd = document.getElementById('749dc393-2dfe-4361-832f-ac85a26ba702');\n",
              "var x = new MutationObserver(function (mutations, observer) {{\n",
              "        var display = window.getComputedStyle(gd).display;\n",
              "        if (!display || display === 'none') {{\n",
              "            console.log([gd, 'removed!']);\n",
              "            Plotly.purge(gd);\n",
              "            observer.disconnect();\n",
              "        }}\n",
              "}});\n",
              "\n",
              "// Listen for the removal of the full notebook cells\n",
              "var notebookContainer = gd.closest('#notebook-container');\n",
              "if (notebookContainer) {{\n",
              "    x.observe(notebookContainer, {childList: true});\n",
              "}}\n",
              "\n",
              "// Listen for the clearing of the current output cell\n",
              "var outputEl = gd.closest('.output');\n",
              "if (outputEl) {{\n",
              "    x.observe(outputEl, {childList: true});\n",
              "}}\n",
              "\n",
              "                        })                };                            </script>        </div>\n",
              "</body>\n",
              "</html>"
            ]
          },
          "metadata": {}
        }
      ],
      "source": [
        "Type = df.groupby(\"Outlet_Type\").count().reset_index()\n",
        "fig = px.bar(Type,x = \"Outlet_Type\", y = \"Item_Outlet_Sales\")\n",
        "fig.show();"
      ],
      "id": "cee67483"
    },
    {
      "cell_type": "markdown",
      "metadata": {
        "id": "ecab06db"
      },
      "source": [
        "## Feature Engineering"
      ],
      "id": "ecab06db"
    },
    {
      "cell_type": "code",
      "execution_count": 15,
      "metadata": {
        "id": "eac337a4"
      },
      "outputs": [],
      "source": [
        "#Filling the NA values with the mean\n",
        "df['Item_Weight'] = df['Item_Weight'].fillna(df['Item_Weight']).mean()"
      ],
      "id": "eac337a4"
    },
    {
      "cell_type": "code",
      "execution_count": 16,
      "metadata": {
        "id": "72f763ab"
      },
      "outputs": [],
      "source": [
        "#Filling the NAN values with the hightest outlet size\n",
        "df['Outlet_Size']=df['Outlet_Size'].fillna('Medium')"
      ],
      "id": "72f763ab"
    },
    {
      "cell_type": "code",
      "execution_count": 17,
      "metadata": {
        "colab": {
          "base_uri": "https://localhost:8080/"
        },
        "id": "e6a95156",
        "outputId": "0885b296-6a22-463f-dc83-96534b927674"
      },
      "outputs": [
        {
          "output_type": "stream",
          "name": "stdout",
          "text": [
            "<class 'pandas.core.frame.DataFrame'>\n",
            "RangeIndex: 8523 entries, 0 to 8522\n",
            "Data columns (total 12 columns):\n",
            " #   Column                     Non-Null Count  Dtype  \n",
            "---  ------                     --------------  -----  \n",
            " 0   Item_Identifier            8523 non-null   object \n",
            " 1   Item_Weight                8523 non-null   float64\n",
            " 2   Item_Fat_Content           8523 non-null   object \n",
            " 3   Item_Visibility            8523 non-null   float64\n",
            " 4   Item_Type                  8523 non-null   object \n",
            " 5   Item_MRP                   8523 non-null   float64\n",
            " 6   Outlet_Identifier          8523 non-null   object \n",
            " 7   Outlet_Establishment_Year  8523 non-null   int64  \n",
            " 8   Outlet_Size                8523 non-null   object \n",
            " 9   Outlet_Location_Type       8523 non-null   object \n",
            " 10  Outlet_Type                8523 non-null   object \n",
            " 11  Item_Outlet_Sales          8523 non-null   float64\n",
            "dtypes: float64(4), int64(1), object(7)\n",
            "memory usage: 799.2+ KB\n"
          ]
        }
      ],
      "source": [
        "df.info()"
      ],
      "id": "e6a95156"
    },
    {
      "cell_type": "code",
      "execution_count": 18,
      "metadata": {
        "colab": {
          "base_uri": "https://localhost:8080/",
          "height": 279
        },
        "id": "0e087a3e",
        "outputId": "a5dfc7e3-4b9d-422e-d64c-e956c2d11dce"
      },
      "outputs": [
        {
          "output_type": "display_data",
          "data": {
            "text/plain": [
              "<Figure size 432x288 with 1 Axes>"
            ],
            "image/png": "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\n"
          },
          "metadata": {
            "needs_background": "light"
          }
        }
      ],
      "source": [
        "plt.scatter(df.Outlet_Size, df.Item_Outlet_Sales)\n",
        "plt.xlabel('Outlet Size')\n",
        "plt.ylabel('Outlet Sales')\n",
        "plt.show()"
      ],
      "id": "0e087a3e"
    },
    {
      "cell_type": "code",
      "execution_count": 19,
      "metadata": {
        "colab": {
          "base_uri": "https://localhost:8080/",
          "height": 206
        },
        "id": "698d6756",
        "outputId": "f2b75284-913b-42e7-9cea-c374d1380b09"
      },
      "outputs": [
        {
          "output_type": "execute_result",
          "data": {
            "text/plain": [
              "                           Item_Weight  Item_Visibility  Item_MRP  \\\n",
              "Item_Weight                        NaN              NaN       NaN   \n",
              "Item_Visibility                    NaN         1.000000 -0.001315   \n",
              "Item_MRP                           NaN        -0.001315  1.000000   \n",
              "Outlet_Establishment_Year          NaN        -0.074834  0.005020   \n",
              "Item_Outlet_Sales                  NaN        -0.128625  0.567574   \n",
              "\n",
              "                           Outlet_Establishment_Year  Item_Outlet_Sales  \n",
              "Item_Weight                                      NaN                NaN  \n",
              "Item_Visibility                            -0.074834          -0.128625  \n",
              "Item_MRP                                    0.005020           0.567574  \n",
              "Outlet_Establishment_Year                   1.000000          -0.049135  \n",
              "Item_Outlet_Sales                          -0.049135           1.000000  "
            ],
            "text/html": [
              "\n",
              "  <div id=\"df-0246c16c-c1d3-4191-bb1c-6cbb54a5acc0\">\n",
              "    <div class=\"colab-df-container\">\n",
              "      <div>\n",
              "<style scoped>\n",
              "    .dataframe tbody tr th:only-of-type {\n",
              "        vertical-align: middle;\n",
              "    }\n",
              "\n",
              "    .dataframe tbody tr th {\n",
              "        vertical-align: top;\n",
              "    }\n",
              "\n",
              "    .dataframe thead th {\n",
              "        text-align: right;\n",
              "    }\n",
              "</style>\n",
              "<table border=\"1\" class=\"dataframe\">\n",
              "  <thead>\n",
              "    <tr style=\"text-align: right;\">\n",
              "      <th></th>\n",
              "      <th>Item_Weight</th>\n",
              "      <th>Item_Visibility</th>\n",
              "      <th>Item_MRP</th>\n",
              "      <th>Outlet_Establishment_Year</th>\n",
              "      <th>Item_Outlet_Sales</th>\n",
              "    </tr>\n",
              "  </thead>\n",
              "  <tbody>\n",
              "    <tr>\n",
              "      <th>Item_Weight</th>\n",
              "      <td>NaN</td>\n",
              "      <td>NaN</td>\n",
              "      <td>NaN</td>\n",
              "      <td>NaN</td>\n",
              "      <td>NaN</td>\n",
              "    </tr>\n",
              "    <tr>\n",
              "      <th>Item_Visibility</th>\n",
              "      <td>NaN</td>\n",
              "      <td>1.000000</td>\n",
              "      <td>-0.001315</td>\n",
              "      <td>-0.074834</td>\n",
              "      <td>-0.128625</td>\n",
              "    </tr>\n",
              "    <tr>\n",
              "      <th>Item_MRP</th>\n",
              "      <td>NaN</td>\n",
              "      <td>-0.001315</td>\n",
              "      <td>1.000000</td>\n",
              "      <td>0.005020</td>\n",
              "      <td>0.567574</td>\n",
              "    </tr>\n",
              "    <tr>\n",
              "      <th>Outlet_Establishment_Year</th>\n",
              "      <td>NaN</td>\n",
              "      <td>-0.074834</td>\n",
              "      <td>0.005020</td>\n",
              "      <td>1.000000</td>\n",
              "      <td>-0.049135</td>\n",
              "    </tr>\n",
              "    <tr>\n",
              "      <th>Item_Outlet_Sales</th>\n",
              "      <td>NaN</td>\n",
              "      <td>-0.128625</td>\n",
              "      <td>0.567574</td>\n",
              "      <td>-0.049135</td>\n",
              "      <td>1.000000</td>\n",
              "    </tr>\n",
              "  </tbody>\n",
              "</table>\n",
              "</div>\n",
              "      <button class=\"colab-df-convert\" onclick=\"convertToInteractive('df-0246c16c-c1d3-4191-bb1c-6cbb54a5acc0')\"\n",
              "              title=\"Convert this dataframe to an interactive table.\"\n",
              "              style=\"display:none;\">\n",
              "        \n",
              "  <svg xmlns=\"http://www.w3.org/2000/svg\" height=\"24px\"viewBox=\"0 0 24 24\"\n",
              "       width=\"24px\">\n",
              "    <path d=\"M0 0h24v24H0V0z\" fill=\"none\"/>\n",
              "    <path d=\"M18.56 5.44l.94 2.06.94-2.06 2.06-.94-2.06-.94-.94-2.06-.94 2.06-2.06.94zm-11 1L8.5 8.5l.94-2.06 2.06-.94-2.06-.94L8.5 2.5l-.94 2.06-2.06.94zm10 10l.94 2.06.94-2.06 2.06-.94-2.06-.94-.94-2.06-.94 2.06-2.06.94z\"/><path d=\"M17.41 7.96l-1.37-1.37c-.4-.4-.92-.59-1.43-.59-.52 0-1.04.2-1.43.59L10.3 9.45l-7.72 7.72c-.78.78-.78 2.05 0 2.83L4 21.41c.39.39.9.59 1.41.59.51 0 1.02-.2 1.41-.59l7.78-7.78 2.81-2.81c.8-.78.8-2.07 0-2.86zM5.41 20L4 18.59l7.72-7.72 1.47 1.35L5.41 20z\"/>\n",
              "  </svg>\n",
              "      </button>\n",
              "      \n",
              "  <style>\n",
              "    .colab-df-container {\n",
              "      display:flex;\n",
              "      flex-wrap:wrap;\n",
              "      gap: 12px;\n",
              "    }\n",
              "\n",
              "    .colab-df-convert {\n",
              "      background-color: #E8F0FE;\n",
              "      border: none;\n",
              "      border-radius: 50%;\n",
              "      cursor: pointer;\n",
              "      display: none;\n",
              "      fill: #1967D2;\n",
              "      height: 32px;\n",
              "      padding: 0 0 0 0;\n",
              "      width: 32px;\n",
              "    }\n",
              "\n",
              "    .colab-df-convert:hover {\n",
              "      background-color: #E2EBFA;\n",
              "      box-shadow: 0px 1px 2px rgba(60, 64, 67, 0.3), 0px 1px 3px 1px rgba(60, 64, 67, 0.15);\n",
              "      fill: #174EA6;\n",
              "    }\n",
              "\n",
              "    [theme=dark] .colab-df-convert {\n",
              "      background-color: #3B4455;\n",
              "      fill: #D2E3FC;\n",
              "    }\n",
              "\n",
              "    [theme=dark] .colab-df-convert:hover {\n",
              "      background-color: #434B5C;\n",
              "      box-shadow: 0px 1px 3px 1px rgba(0, 0, 0, 0.15);\n",
              "      filter: drop-shadow(0px 1px 2px rgba(0, 0, 0, 0.3));\n",
              "      fill: #FFFFFF;\n",
              "    }\n",
              "  </style>\n",
              "\n",
              "      <script>\n",
              "        const buttonEl =\n",
              "          document.querySelector('#df-0246c16c-c1d3-4191-bb1c-6cbb54a5acc0 button.colab-df-convert');\n",
              "        buttonEl.style.display =\n",
              "          google.colab.kernel.accessAllowed ? 'block' : 'none';\n",
              "\n",
              "        async function convertToInteractive(key) {\n",
              "          const element = document.querySelector('#df-0246c16c-c1d3-4191-bb1c-6cbb54a5acc0');\n",
              "          const dataTable =\n",
              "            await google.colab.kernel.invokeFunction('convertToInteractive',\n",
              "                                                     [key], {});\n",
              "          if (!dataTable) return;\n",
              "\n",
              "          const docLinkHtml = 'Like what you see? Visit the ' +\n",
              "            '<a target=\"_blank\" href=https://colab.research.google.com/notebooks/data_table.ipynb>data table notebook</a>'\n",
              "            + ' to learn more about interactive tables.';\n",
              "          element.innerHTML = '';\n",
              "          dataTable['output_type'] = 'display_data';\n",
              "          await google.colab.output.renderOutput(dataTable, element);\n",
              "          const docLink = document.createElement('div');\n",
              "          docLink.innerHTML = docLinkHtml;\n",
              "          element.appendChild(docLink);\n",
              "        }\n",
              "      </script>\n",
              "    </div>\n",
              "  </div>\n",
              "  "
            ]
          },
          "metadata": {},
          "execution_count": 19
        }
      ],
      "source": [
        "df.corr()"
      ],
      "id": "698d6756"
    },
    {
      "cell_type": "code",
      "execution_count": 20,
      "metadata": {
        "colab": {
          "base_uri": "https://localhost:8080/",
          "height": 409
        },
        "id": "cc03221f",
        "outputId": "c0c7f1c0-696d-4849-99e8-f66944fa1a3c"
      },
      "outputs": [
        {
          "output_type": "execute_result",
          "data": {
            "text/plain": [
              "<matplotlib.axes._subplots.AxesSubplot at 0x7f04b5e5de20>"
            ]
          },
          "metadata": {},
          "execution_count": 20
        },
        {
          "output_type": "display_data",
          "data": {
            "text/plain": [
              "<Figure size 432x288 with 2 Axes>"
            ],
            "image/png": "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\n"
          },
          "metadata": {
            "needs_background": "light"
          }
        }
      ],
      "source": [
        "import seaborn as sns\n",
        "sns.heatmap(df.corr())"
      ],
      "id": "cc03221f"
    },
    {
      "cell_type": "markdown",
      "metadata": {
        "id": "3cdbb355"
      },
      "source": [
        "Drop Multicollinearity"
      ],
      "id": "3cdbb355"
    },
    {
      "cell_type": "code",
      "execution_count": 21,
      "metadata": {
        "colab": {
          "base_uri": "https://localhost:8080/"
        },
        "id": "73ac0c5c",
        "outputId": "a3364301-b9c6-48b5-d3c8-becb7f51bc17"
      },
      "outputs": [
        {
          "output_type": "execute_result",
          "data": {
            "text/plain": [
              "(8523, 11)"
            ]
          },
          "metadata": {},
          "execution_count": 21
        }
      ],
      "source": [
        "features = [\"Item_Identifier\",\"Item_Type\",\"Item_MRP\",\"Outlet_Identifier\",\"Outlet_Establishment_Year\", \"Outlet_Size\",\"Outlet_Location_Type\",\"Item_Visibility\",\"Outlet_Type\",\"Item_Weight\",\"Item_Fat_Content\"]\n",
        "X_train = df[features]\n",
        "X_train.shape"
      ],
      "id": "73ac0c5c"
    },
    {
      "cell_type": "code",
      "execution_count": 22,
      "metadata": {
        "colab": {
          "base_uri": "https://localhost:8080/"
        },
        "id": "UeixdSm2ZS3X",
        "outputId": "f8a94f92-0cbb-40ec-a8d3-31c0960ac8cd"
      },
      "outputs": [
        {
          "output_type": "execute_result",
          "data": {
            "text/plain": [
              "(8523,)"
            ]
          },
          "metadata": {},
          "execution_count": 22
        }
      ],
      "source": [
        "target = \"Item_Outlet_Sales\"\n",
        "y_train = df[target]\n",
        "y_train.shape"
      ],
      "id": "UeixdSm2ZS3X"
    },
    {
      "cell_type": "markdown",
      "metadata": {
        "id": "572edbc0"
      },
      "source": [
        "Build Model"
      ],
      "id": "572edbc0"
    },
    {
      "cell_type": "code",
      "execution_count": 23,
      "metadata": {
        "colab": {
          "base_uri": "https://localhost:8080/"
        },
        "id": "e7bd1483",
        "outputId": "747d209a-1783-4640-9120-e1b23fb32ad5"
      },
      "outputs": [
        {
          "output_type": "execute_result",
          "data": {
            "text/plain": [
              "2181.288913575032"
            ]
          },
          "metadata": {},
          "execution_count": 23
        }
      ],
      "source": [
        "y_mean = y_train.mean()\n",
        "y_mean"
      ],
      "id": "e7bd1483"
    },
    {
      "cell_type": "code",
      "execution_count": 24,
      "metadata": {
        "colab": {
          "base_uri": "https://localhost:8080/"
        },
        "id": "7a6f0b8e",
        "outputId": "b9f593b3-ca34-4b35-c5ea-9098fdd49c66"
      },
      "outputs": [
        {
          "output_type": "execute_result",
          "data": {
            "text/plain": [
              "[2181.288913575032,\n",
              " 2181.288913575032,\n",
              " 2181.288913575032,\n",
              " 2181.288913575032,\n",
              " 2181.288913575032]"
            ]
          },
          "metadata": {},
          "execution_count": 24
        }
      ],
      "source": [
        "y_pred_baseline = [y_mean] * len(y_train)\n",
        "y_pred_baseline[:5]"
      ],
      "id": "7a6f0b8e"
    },
    {
      "cell_type": "code",
      "execution_count": 25,
      "metadata": {
        "colab": {
          "base_uri": "https://localhost:8080/"
        },
        "id": "c97a6026",
        "outputId": "98598469-1804-4672-abaf-efa682c19e0b"
      },
      "outputs": [
        {
          "output_type": "stream",
          "name": "stdout",
          "text": [
            "Mean apt price 2181.29\n",
            "Baseline MAE: 1346.57\n"
          ]
        }
      ],
      "source": [
        "mae_baseline = mean_absolute_error(y_train, y_pred_baseline)\n",
        "\n",
        "print(\"Mean apt price\", round(y_mean, 2))\n",
        "print(\"Baseline MAE:\", round(mae_baseline, 2))"
      ],
      "id": "c97a6026"
    },
    {
      "cell_type": "code",
      "source": [
        "ohe = OneHotEncoder(use_cat_names=True)\n",
        "#Fit\n",
        "ohe.fit(X_train)\n",
        "#Transform\n",
        "XT_train = ohe.transform(X_train)\n",
        "print(XT_train.shape)\n",
        "XT_train.head()"
      ],
      "metadata": {
        "colab": {
          "base_uri": "https://localhost:8080/",
          "height": 334
        },
        "id": "8QiYE9EuuVxu",
        "outputId": "08c948cc-3f5b-4b95-f5d1-1245715c75d4"
      },
      "id": "8QiYE9EuuVxu",
      "execution_count": 26,
      "outputs": [
        {
          "output_type": "stream",
          "name": "stdout",
          "text": [
            "(8523, 1604)\n"
          ]
        },
        {
          "output_type": "execute_result",
          "data": {
            "text/plain": [
              "   Item_Identifier_FDA15  Item_Identifier_DRC01  Item_Identifier_FDN15  \\\n",
              "0                      1                      0                      0   \n",
              "1                      0                      1                      0   \n",
              "2                      0                      0                      1   \n",
              "3                      0                      0                      0   \n",
              "4                      0                      0                      0   \n",
              "\n",
              "   Item_Identifier_FDX07  Item_Identifier_NCD19  Item_Identifier_FDP36  \\\n",
              "0                      0                      0                      0   \n",
              "1                      0                      0                      0   \n",
              "2                      0                      0                      0   \n",
              "3                      1                      0                      0   \n",
              "4                      0                      1                      0   \n",
              "\n",
              "   Item_Identifier_FDO10  Item_Identifier_FDP10  Item_Identifier_FDH17  \\\n",
              "0                      0                      0                      0   \n",
              "1                      0                      0                      0   \n",
              "2                      0                      0                      0   \n",
              "3                      0                      0                      0   \n",
              "4                      0                      0                      0   \n",
              "\n",
              "   Item_Identifier_FDU28  ...  Outlet_Type_Supermarket Type1  \\\n",
              "0                      0  ...                              1   \n",
              "1                      0  ...                              0   \n",
              "2                      0  ...                              1   \n",
              "3                      0  ...                              0   \n",
              "4                      0  ...                              1   \n",
              "\n",
              "   Outlet_Type_Supermarket Type2  Outlet_Type_Grocery Store  \\\n",
              "0                              0                          0   \n",
              "1                              1                          0   \n",
              "2                              0                          0   \n",
              "3                              0                          1   \n",
              "4                              0                          0   \n",
              "\n",
              "   Outlet_Type_Supermarket Type3  Item_Weight  Item_Fat_Content_Low Fat  \\\n",
              "0                              0    12.857645                         1   \n",
              "1                              0    12.857645                         0   \n",
              "2                              0    12.857645                         1   \n",
              "3                              0    12.857645                         0   \n",
              "4                              0    12.857645                         1   \n",
              "\n",
              "   Item_Fat_Content_Regular  Item_Fat_Content_low fat  Item_Fat_Content_LF  \\\n",
              "0                         0                         0                    0   \n",
              "1                         1                         0                    0   \n",
              "2                         0                         0                    0   \n",
              "3                         1                         0                    0   \n",
              "4                         0                         0                    0   \n",
              "\n",
              "   Item_Fat_Content_reg  \n",
              "0                     0  \n",
              "1                     0  \n",
              "2                     0  \n",
              "3                     0  \n",
              "4                     0  \n",
              "\n",
              "[5 rows x 1604 columns]"
            ],
            "text/html": [
              "\n",
              "  <div id=\"df-d41d0bd8-6cba-45e9-ba63-b901dfa08537\">\n",
              "    <div class=\"colab-df-container\">\n",
              "      <div>\n",
              "<style scoped>\n",
              "    .dataframe tbody tr th:only-of-type {\n",
              "        vertical-align: middle;\n",
              "    }\n",
              "\n",
              "    .dataframe tbody tr th {\n",
              "        vertical-align: top;\n",
              "    }\n",
              "\n",
              "    .dataframe thead th {\n",
              "        text-align: right;\n",
              "    }\n",
              "</style>\n",
              "<table border=\"1\" class=\"dataframe\">\n",
              "  <thead>\n",
              "    <tr style=\"text-align: right;\">\n",
              "      <th></th>\n",
              "      <th>Item_Identifier_FDA15</th>\n",
              "      <th>Item_Identifier_DRC01</th>\n",
              "      <th>Item_Identifier_FDN15</th>\n",
              "      <th>Item_Identifier_FDX07</th>\n",
              "      <th>Item_Identifier_NCD19</th>\n",
              "      <th>Item_Identifier_FDP36</th>\n",
              "      <th>Item_Identifier_FDO10</th>\n",
              "      <th>Item_Identifier_FDP10</th>\n",
              "      <th>Item_Identifier_FDH17</th>\n",
              "      <th>Item_Identifier_FDU28</th>\n",
              "      <th>...</th>\n",
              "      <th>Outlet_Type_Supermarket Type1</th>\n",
              "      <th>Outlet_Type_Supermarket Type2</th>\n",
              "      <th>Outlet_Type_Grocery Store</th>\n",
              "      <th>Outlet_Type_Supermarket Type3</th>\n",
              "      <th>Item_Weight</th>\n",
              "      <th>Item_Fat_Content_Low Fat</th>\n",
              "      <th>Item_Fat_Content_Regular</th>\n",
              "      <th>Item_Fat_Content_low fat</th>\n",
              "      <th>Item_Fat_Content_LF</th>\n",
              "      <th>Item_Fat_Content_reg</th>\n",
              "    </tr>\n",
              "  </thead>\n",
              "  <tbody>\n",
              "    <tr>\n",
              "      <th>0</th>\n",
              "      <td>1</td>\n",
              "      <td>0</td>\n",
              "      <td>0</td>\n",
              "      <td>0</td>\n",
              "      <td>0</td>\n",
              "      <td>0</td>\n",
              "      <td>0</td>\n",
              "      <td>0</td>\n",
              "      <td>0</td>\n",
              "      <td>0</td>\n",
              "      <td>...</td>\n",
              "      <td>1</td>\n",
              "      <td>0</td>\n",
              "      <td>0</td>\n",
              "      <td>0</td>\n",
              "      <td>12.857645</td>\n",
              "      <td>1</td>\n",
              "      <td>0</td>\n",
              "      <td>0</td>\n",
              "      <td>0</td>\n",
              "      <td>0</td>\n",
              "    </tr>\n",
              "    <tr>\n",
              "      <th>1</th>\n",
              "      <td>0</td>\n",
              "      <td>1</td>\n",
              "      <td>0</td>\n",
              "      <td>0</td>\n",
              "      <td>0</td>\n",
              "      <td>0</td>\n",
              "      <td>0</td>\n",
              "      <td>0</td>\n",
              "      <td>0</td>\n",
              "      <td>0</td>\n",
              "      <td>...</td>\n",
              "      <td>0</td>\n",
              "      <td>1</td>\n",
              "      <td>0</td>\n",
              "      <td>0</td>\n",
              "      <td>12.857645</td>\n",
              "      <td>0</td>\n",
              "      <td>1</td>\n",
              "      <td>0</td>\n",
              "      <td>0</td>\n",
              "      <td>0</td>\n",
              "    </tr>\n",
              "    <tr>\n",
              "      <th>2</th>\n",
              "      <td>0</td>\n",
              "      <td>0</td>\n",
              "      <td>1</td>\n",
              "      <td>0</td>\n",
              "      <td>0</td>\n",
              "      <td>0</td>\n",
              "      <td>0</td>\n",
              "      <td>0</td>\n",
              "      <td>0</td>\n",
              "      <td>0</td>\n",
              "      <td>...</td>\n",
              "      <td>1</td>\n",
              "      <td>0</td>\n",
              "      <td>0</td>\n",
              "      <td>0</td>\n",
              "      <td>12.857645</td>\n",
              "      <td>1</td>\n",
              "      <td>0</td>\n",
              "      <td>0</td>\n",
              "      <td>0</td>\n",
              "      <td>0</td>\n",
              "    </tr>\n",
              "    <tr>\n",
              "      <th>3</th>\n",
              "      <td>0</td>\n",
              "      <td>0</td>\n",
              "      <td>0</td>\n",
              "      <td>1</td>\n",
              "      <td>0</td>\n",
              "      <td>0</td>\n",
              "      <td>0</td>\n",
              "      <td>0</td>\n",
              "      <td>0</td>\n",
              "      <td>0</td>\n",
              "      <td>...</td>\n",
              "      <td>0</td>\n",
              "      <td>0</td>\n",
              "      <td>1</td>\n",
              "      <td>0</td>\n",
              "      <td>12.857645</td>\n",
              "      <td>0</td>\n",
              "      <td>1</td>\n",
              "      <td>0</td>\n",
              "      <td>0</td>\n",
              "      <td>0</td>\n",
              "    </tr>\n",
              "    <tr>\n",
              "      <th>4</th>\n",
              "      <td>0</td>\n",
              "      <td>0</td>\n",
              "      <td>0</td>\n",
              "      <td>0</td>\n",
              "      <td>1</td>\n",
              "      <td>0</td>\n",
              "      <td>0</td>\n",
              "      <td>0</td>\n",
              "      <td>0</td>\n",
              "      <td>0</td>\n",
              "      <td>...</td>\n",
              "      <td>1</td>\n",
              "      <td>0</td>\n",
              "      <td>0</td>\n",
              "      <td>0</td>\n",
              "      <td>12.857645</td>\n",
              "      <td>1</td>\n",
              "      <td>0</td>\n",
              "      <td>0</td>\n",
              "      <td>0</td>\n",
              "      <td>0</td>\n",
              "    </tr>\n",
              "  </tbody>\n",
              "</table>\n",
              "<p>5 rows × 1604 columns</p>\n",
              "</div>\n",
              "      <button class=\"colab-df-convert\" onclick=\"convertToInteractive('df-d41d0bd8-6cba-45e9-ba63-b901dfa08537')\"\n",
              "              title=\"Convert this dataframe to an interactive table.\"\n",
              "              style=\"display:none;\">\n",
              "        \n",
              "  <svg xmlns=\"http://www.w3.org/2000/svg\" height=\"24px\"viewBox=\"0 0 24 24\"\n",
              "       width=\"24px\">\n",
              "    <path d=\"M0 0h24v24H0V0z\" fill=\"none\"/>\n",
              "    <path d=\"M18.56 5.44l.94 2.06.94-2.06 2.06-.94-2.06-.94-.94-2.06-.94 2.06-2.06.94zm-11 1L8.5 8.5l.94-2.06 2.06-.94-2.06-.94L8.5 2.5l-.94 2.06-2.06.94zm10 10l.94 2.06.94-2.06 2.06-.94-2.06-.94-.94-2.06-.94 2.06-2.06.94z\"/><path d=\"M17.41 7.96l-1.37-1.37c-.4-.4-.92-.59-1.43-.59-.52 0-1.04.2-1.43.59L10.3 9.45l-7.72 7.72c-.78.78-.78 2.05 0 2.83L4 21.41c.39.39.9.59 1.41.59.51 0 1.02-.2 1.41-.59l7.78-7.78 2.81-2.81c.8-.78.8-2.07 0-2.86zM5.41 20L4 18.59l7.72-7.72 1.47 1.35L5.41 20z\"/>\n",
              "  </svg>\n",
              "      </button>\n",
              "      \n",
              "  <style>\n",
              "    .colab-df-container {\n",
              "      display:flex;\n",
              "      flex-wrap:wrap;\n",
              "      gap: 12px;\n",
              "    }\n",
              "\n",
              "    .colab-df-convert {\n",
              "      background-color: #E8F0FE;\n",
              "      border: none;\n",
              "      border-radius: 50%;\n",
              "      cursor: pointer;\n",
              "      display: none;\n",
              "      fill: #1967D2;\n",
              "      height: 32px;\n",
              "      padding: 0 0 0 0;\n",
              "      width: 32px;\n",
              "    }\n",
              "\n",
              "    .colab-df-convert:hover {\n",
              "      background-color: #E2EBFA;\n",
              "      box-shadow: 0px 1px 2px rgba(60, 64, 67, 0.3), 0px 1px 3px 1px rgba(60, 64, 67, 0.15);\n",
              "      fill: #174EA6;\n",
              "    }\n",
              "\n",
              "    [theme=dark] .colab-df-convert {\n",
              "      background-color: #3B4455;\n",
              "      fill: #D2E3FC;\n",
              "    }\n",
              "\n",
              "    [theme=dark] .colab-df-convert:hover {\n",
              "      background-color: #434B5C;\n",
              "      box-shadow: 0px 1px 3px 1px rgba(0, 0, 0, 0.15);\n",
              "      filter: drop-shadow(0px 1px 2px rgba(0, 0, 0, 0.3));\n",
              "      fill: #FFFFFF;\n",
              "    }\n",
              "  </style>\n",
              "\n",
              "      <script>\n",
              "        const buttonEl =\n",
              "          document.querySelector('#df-d41d0bd8-6cba-45e9-ba63-b901dfa08537 button.colab-df-convert');\n",
              "        buttonEl.style.display =\n",
              "          google.colab.kernel.accessAllowed ? 'block' : 'none';\n",
              "\n",
              "        async function convertToInteractive(key) {\n",
              "          const element = document.querySelector('#df-d41d0bd8-6cba-45e9-ba63-b901dfa08537');\n",
              "          const dataTable =\n",
              "            await google.colab.kernel.invokeFunction('convertToInteractive',\n",
              "                                                     [key], {});\n",
              "          if (!dataTable) return;\n",
              "\n",
              "          const docLinkHtml = 'Like what you see? Visit the ' +\n",
              "            '<a target=\"_blank\" href=https://colab.research.google.com/notebooks/data_table.ipynb>data table notebook</a>'\n",
              "            + ' to learn more about interactive tables.';\n",
              "          element.innerHTML = '';\n",
              "          dataTable['output_type'] = 'display_data';\n",
              "          await google.colab.output.renderOutput(dataTable, element);\n",
              "          const docLink = document.createElement('div');\n",
              "          docLink.innerHTML = docLinkHtml;\n",
              "          element.appendChild(docLink);\n",
              "        }\n",
              "      </script>\n",
              "    </div>\n",
              "  </div>\n",
              "  "
            ]
          },
          "metadata": {},
          "execution_count": 26
        }
      ]
    },
    {
      "cell_type": "code",
      "execution_count": 27,
      "metadata": {
        "id": "4200db54"
      },
      "outputs": [],
      "source": [
        "#set model\n",
        "model = make_pipeline(\n",
        "    OneHotEncoder(use_cat_names=True),\n",
        "    SimpleImputer(),\n",
        "    LinearRegression()\n",
        ")"
      ],
      "id": "4200db54"
    },
    {
      "cell_type": "code",
      "execution_count": 28,
      "metadata": {
        "colab": {
          "base_uri": "https://localhost:8080/"
        },
        "id": "14d3be2e",
        "outputId": "6e79fe73-6703-42b1-ae50-2cfe8487734a"
      },
      "outputs": [
        {
          "output_type": "execute_result",
          "data": {
            "text/plain": [
              "Pipeline(steps=[('onehotencoder',\n",
              "                 OneHotEncoder(cols=['Item_Identifier', 'Item_Type',\n",
              "                                     'Outlet_Identifier', 'Outlet_Size',\n",
              "                                     'Outlet_Location_Type', 'Outlet_Type',\n",
              "                                     'Item_Fat_Content'],\n",
              "                               use_cat_names=True)),\n",
              "                ('simpleimputer', SimpleImputer()),\n",
              "                ('linearregression', LinearRegression())])"
            ]
          },
          "metadata": {},
          "execution_count": 28
        }
      ],
      "source": [
        "#fit model\n",
        "model.fit(X_train,y_train)"
      ],
      "id": "14d3be2e"
    },
    {
      "cell_type": "code",
      "execution_count": 29,
      "metadata": {
        "id": "0e16c7ce"
      },
      "outputs": [],
      "source": [
        "y_pred_training=model.predict(X_train)"
      ],
      "id": "0e16c7ce"
    },
    {
      "cell_type": "code",
      "source": [],
      "metadata": {
        "id": "78dhkJsbuiWM"
      },
      "id": "78dhkJsbuiWM",
      "execution_count": 29,
      "outputs": []
    },
    {
      "cell_type": "code",
      "execution_count": 30,
      "metadata": {
        "colab": {
          "base_uri": "https://localhost:8080/"
        },
        "id": "kUGzvrhliVka",
        "outputId": "df12778c-650a-44aa-bf92-4f7955bdc0ed"
      },
      "outputs": [
        {
          "output_type": "execute_result",
          "data": {
            "text/plain": [
              "array([5351.96875 ,  372.171875, 1935.96875 , ..., 1148.9375  ,\n",
              "       1779.65625 , 1277.28125 ])"
            ]
          },
          "metadata": {},
          "execution_count": 30
        }
      ],
      "source": [
        "y_pred_training"
      ],
      "id": "kUGzvrhliVka"
    },
    {
      "cell_type": "code",
      "execution_count": 31,
      "metadata": {
        "id": "8bCQLyXAhhyW"
      },
      "outputs": [],
      "source": [
        "# Check your work\n",
        "assert (\n",
        "    len(y_pred_training) == 8523\n",
        "), f\"There should be 1343 predictions in `y_pred_training`, not {len(y_pred_training)}.\""
      ],
      "id": "8bCQLyXAhhyW"
    },
    {
      "cell_type": "code",
      "execution_count": 32,
      "metadata": {
        "colab": {
          "base_uri": "https://localhost:8080/"
        },
        "id": "7372df0d",
        "outputId": "1aa57e2a-58a3-456b-a2a9-b9cab4fb5614"
      },
      "outputs": [
        {
          "output_type": "stream",
          "name": "stdout",
          "text": [
            "MEAN SQUARED ERROR(MSE) 1040952.2846310437\n",
            "MEAN ABSOLUTE ERROR(MAE) 762.1435386923617\n",
            "ROOT MEAN SQUARED ERROR(RMSE) 1020.2706918416523\n"
          ]
        }
      ],
      "source": [
        "print(\"MEAN SQUARED ERROR(MSE)\",mean_squared_error(y_train,y_pred_training))\n",
        "print(\"MEAN ABSOLUTE ERROR(MAE)\",mean_absolute_error(y_train,y_pred_training))\n",
        "print(\"ROOT MEAN SQUARED ERROR(RMSE)\",np.sqrt(mean_squared_error(y_train,y_pred_training)))"
      ],
      "id": "7372df0d"
    },
    {
      "cell_type": "code",
      "source": [
        "intercept = model.named_steps[\"linearregression\"].intercept_\n",
        "coefficients = model.named_steps[\"linearregression\"].coef_\n",
        "feature_names = model.named_steps[\"onehotencoder\"].get_feature_names()\n",
        "feat_imp = pd.Series(coefficients, index=feature_names)\n",
        "feat_imp"
      ],
      "metadata": {
        "colab": {
          "base_uri": "https://localhost:8080/"
        },
        "id": "yE1HntzLpQj4",
        "outputId": "73057731-788b-4b57-c815-4d42b3ba7121"
      },
      "id": "yE1HntzLpQj4",
      "execution_count": 33,
      "outputs": [
        {
          "output_type": "stream",
          "name": "stderr",
          "text": [
            "/usr/local/lib/python3.8/dist-packages/category_encoders/utils.py:360: FutureWarning:\n",
            "\n",
            "`get_feature_names` is deprecated in all of sklearn. Use `get_feature_names_out` instead.\n",
            "\n"
          ]
        },
        {
          "output_type": "execute_result",
          "data": {
            "text/plain": [
              "Item_Identifier_FDA15      -1.086091e+13\n",
              "Item_Identifier_DRC01       2.066185e+12\n",
              "Item_Identifier_FDN15       4.055208e+11\n",
              "Item_Identifier_FDX07       3.927727e+11\n",
              "Item_Identifier_NCD19       1.369684e+12\n",
              "                                ...     \n",
              "Item_Fat_Content_Low Fat    6.102808e+12\n",
              "Item_Fat_Content_Regular    5.670011e+12\n",
              "Item_Fat_Content_low fat    6.102808e+12\n",
              "Item_Fat_Content_LF         6.102808e+12\n",
              "Item_Fat_Content_reg        5.670011e+12\n",
              "Length: 1604, dtype: float64"
            ]
          },
          "metadata": {},
          "execution_count": 33
        }
      ]
    },
    {
      "cell_type": "code",
      "source": [
        "# Create horizontal bar chart\n",
        "feat_imp.sort_values(key=abs).tail(10).plot(kind=\"barh\")\n",
        "plt.xlabel(\"Importance [USD]\")\n",
        "plt.ylabel(\"features\")\n",
        "plt.title(\"Features Importance for Apartment Price\");"
      ],
      "metadata": {
        "colab": {
          "base_uri": "https://localhost:8080/",
          "height": 295
        },
        "id": "zxBpzFNxpbD5",
        "outputId": "b3edb387-43fc-4b2e-ecdf-288bdbdb1431"
      },
      "id": "zxBpzFNxpbD5",
      "execution_count": 34,
      "outputs": [
        {
          "output_type": "display_data",
          "data": {
            "text/plain": [
              "<Figure size 432x288 with 1 Axes>"
            ],
            "image/png": "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\n"
          },
          "metadata": {
            "needs_background": "light"
          }
        }
      ]
    },
    {
      "cell_type": "code",
      "execution_count": 35,
      "metadata": {
        "colab": {
          "base_uri": "https://localhost:8080/",
          "height": 601
        },
        "id": "7b4bfb01",
        "outputId": "348b853e-7698-42d9-af6a-167a7779a4e2"
      },
      "outputs": [
        {
          "output_type": "execute_result",
          "data": {
            "text/plain": [
              "  Item_Identifier  Item_Weight Item_Fat_Content  Item_Visibility  \\\n",
              "0           FDW58       20.750          Low Fat         0.007565   \n",
              "1           FDW14        8.300              reg         0.038428   \n",
              "2           NCN55       14.600          Low Fat         0.099575   \n",
              "3           FDQ58        7.315          Low Fat         0.015388   \n",
              "4           FDY38          NaN          Regular         0.118599   \n",
              "5           FDH56        9.800          Regular         0.063817   \n",
              "6           FDL48       19.350          Regular         0.082602   \n",
              "7           FDC48          NaN          Low Fat         0.015782   \n",
              "8           FDN33        6.305          Regular         0.123365   \n",
              "9           FDA36        5.985          Low Fat         0.005698   \n",
              "\n",
              "               Item_Type  Item_MRP Outlet_Identifier  \\\n",
              "0            Snack Foods  107.8622            OUT049   \n",
              "1                  Dairy   87.3198            OUT017   \n",
              "2                 Others  241.7538            OUT010   \n",
              "3            Snack Foods  155.0340            OUT017   \n",
              "4                  Dairy  234.2300            OUT027   \n",
              "5  Fruits and Vegetables  117.1492            OUT046   \n",
              "6           Baking Goods   50.1034            OUT018   \n",
              "7           Baking Goods   81.0592            OUT027   \n",
              "8            Snack Foods   95.7436            OUT045   \n",
              "9           Baking Goods  186.8924            OUT017   \n",
              "\n",
              "   Outlet_Establishment_Year Outlet_Size Outlet_Location_Type  \\\n",
              "0                       1999      Medium               Tier 1   \n",
              "1                       2007         NaN               Tier 2   \n",
              "2                       1998         NaN               Tier 3   \n",
              "3                       2007         NaN               Tier 2   \n",
              "4                       1985      Medium               Tier 3   \n",
              "5                       1997       Small               Tier 1   \n",
              "6                       2009      Medium               Tier 3   \n",
              "7                       1985      Medium               Tier 3   \n",
              "8                       2002         NaN               Tier 2   \n",
              "9                       2007         NaN               Tier 2   \n",
              "\n",
              "         Outlet_Type  \n",
              "0  Supermarket Type1  \n",
              "1  Supermarket Type1  \n",
              "2      Grocery Store  \n",
              "3  Supermarket Type1  \n",
              "4  Supermarket Type3  \n",
              "5  Supermarket Type1  \n",
              "6  Supermarket Type2  \n",
              "7  Supermarket Type3  \n",
              "8  Supermarket Type1  \n",
              "9  Supermarket Type1  "
            ],
            "text/html": [
              "\n",
              "  <div id=\"df-51e78e4a-86d1-4561-aea6-1b22a8754020\">\n",
              "    <div class=\"colab-df-container\">\n",
              "      <div>\n",
              "<style scoped>\n",
              "    .dataframe tbody tr th:only-of-type {\n",
              "        vertical-align: middle;\n",
              "    }\n",
              "\n",
              "    .dataframe tbody tr th {\n",
              "        vertical-align: top;\n",
              "    }\n",
              "\n",
              "    .dataframe thead th {\n",
              "        text-align: right;\n",
              "    }\n",
              "</style>\n",
              "<table border=\"1\" class=\"dataframe\">\n",
              "  <thead>\n",
              "    <tr style=\"text-align: right;\">\n",
              "      <th></th>\n",
              "      <th>Item_Identifier</th>\n",
              "      <th>Item_Weight</th>\n",
              "      <th>Item_Fat_Content</th>\n",
              "      <th>Item_Visibility</th>\n",
              "      <th>Item_Type</th>\n",
              "      <th>Item_MRP</th>\n",
              "      <th>Outlet_Identifier</th>\n",
              "      <th>Outlet_Establishment_Year</th>\n",
              "      <th>Outlet_Size</th>\n",
              "      <th>Outlet_Location_Type</th>\n",
              "      <th>Outlet_Type</th>\n",
              "    </tr>\n",
              "  </thead>\n",
              "  <tbody>\n",
              "    <tr>\n",
              "      <th>0</th>\n",
              "      <td>FDW58</td>\n",
              "      <td>20.750</td>\n",
              "      <td>Low Fat</td>\n",
              "      <td>0.007565</td>\n",
              "      <td>Snack Foods</td>\n",
              "      <td>107.8622</td>\n",
              "      <td>OUT049</td>\n",
              "      <td>1999</td>\n",
              "      <td>Medium</td>\n",
              "      <td>Tier 1</td>\n",
              "      <td>Supermarket Type1</td>\n",
              "    </tr>\n",
              "    <tr>\n",
              "      <th>1</th>\n",
              "      <td>FDW14</td>\n",
              "      <td>8.300</td>\n",
              "      <td>reg</td>\n",
              "      <td>0.038428</td>\n",
              "      <td>Dairy</td>\n",
              "      <td>87.3198</td>\n",
              "      <td>OUT017</td>\n",
              "      <td>2007</td>\n",
              "      <td>NaN</td>\n",
              "      <td>Tier 2</td>\n",
              "      <td>Supermarket Type1</td>\n",
              "    </tr>\n",
              "    <tr>\n",
              "      <th>2</th>\n",
              "      <td>NCN55</td>\n",
              "      <td>14.600</td>\n",
              "      <td>Low Fat</td>\n",
              "      <td>0.099575</td>\n",
              "      <td>Others</td>\n",
              "      <td>241.7538</td>\n",
              "      <td>OUT010</td>\n",
              "      <td>1998</td>\n",
              "      <td>NaN</td>\n",
              "      <td>Tier 3</td>\n",
              "      <td>Grocery Store</td>\n",
              "    </tr>\n",
              "    <tr>\n",
              "      <th>3</th>\n",
              "      <td>FDQ58</td>\n",
              "      <td>7.315</td>\n",
              "      <td>Low Fat</td>\n",
              "      <td>0.015388</td>\n",
              "      <td>Snack Foods</td>\n",
              "      <td>155.0340</td>\n",
              "      <td>OUT017</td>\n",
              "      <td>2007</td>\n",
              "      <td>NaN</td>\n",
              "      <td>Tier 2</td>\n",
              "      <td>Supermarket Type1</td>\n",
              "    </tr>\n",
              "    <tr>\n",
              "      <th>4</th>\n",
              "      <td>FDY38</td>\n",
              "      <td>NaN</td>\n",
              "      <td>Regular</td>\n",
              "      <td>0.118599</td>\n",
              "      <td>Dairy</td>\n",
              "      <td>234.2300</td>\n",
              "      <td>OUT027</td>\n",
              "      <td>1985</td>\n",
              "      <td>Medium</td>\n",
              "      <td>Tier 3</td>\n",
              "      <td>Supermarket Type3</td>\n",
              "    </tr>\n",
              "    <tr>\n",
              "      <th>5</th>\n",
              "      <td>FDH56</td>\n",
              "      <td>9.800</td>\n",
              "      <td>Regular</td>\n",
              "      <td>0.063817</td>\n",
              "      <td>Fruits and Vegetables</td>\n",
              "      <td>117.1492</td>\n",
              "      <td>OUT046</td>\n",
              "      <td>1997</td>\n",
              "      <td>Small</td>\n",
              "      <td>Tier 1</td>\n",
              "      <td>Supermarket Type1</td>\n",
              "    </tr>\n",
              "    <tr>\n",
              "      <th>6</th>\n",
              "      <td>FDL48</td>\n",
              "      <td>19.350</td>\n",
              "      <td>Regular</td>\n",
              "      <td>0.082602</td>\n",
              "      <td>Baking Goods</td>\n",
              "      <td>50.1034</td>\n",
              "      <td>OUT018</td>\n",
              "      <td>2009</td>\n",
              "      <td>Medium</td>\n",
              "      <td>Tier 3</td>\n",
              "      <td>Supermarket Type2</td>\n",
              "    </tr>\n",
              "    <tr>\n",
              "      <th>7</th>\n",
              "      <td>FDC48</td>\n",
              "      <td>NaN</td>\n",
              "      <td>Low Fat</td>\n",
              "      <td>0.015782</td>\n",
              "      <td>Baking Goods</td>\n",
              "      <td>81.0592</td>\n",
              "      <td>OUT027</td>\n",
              "      <td>1985</td>\n",
              "      <td>Medium</td>\n",
              "      <td>Tier 3</td>\n",
              "      <td>Supermarket Type3</td>\n",
              "    </tr>\n",
              "    <tr>\n",
              "      <th>8</th>\n",
              "      <td>FDN33</td>\n",
              "      <td>6.305</td>\n",
              "      <td>Regular</td>\n",
              "      <td>0.123365</td>\n",
              "      <td>Snack Foods</td>\n",
              "      <td>95.7436</td>\n",
              "      <td>OUT045</td>\n",
              "      <td>2002</td>\n",
              "      <td>NaN</td>\n",
              "      <td>Tier 2</td>\n",
              "      <td>Supermarket Type1</td>\n",
              "    </tr>\n",
              "    <tr>\n",
              "      <th>9</th>\n",
              "      <td>FDA36</td>\n",
              "      <td>5.985</td>\n",
              "      <td>Low Fat</td>\n",
              "      <td>0.005698</td>\n",
              "      <td>Baking Goods</td>\n",
              "      <td>186.8924</td>\n",
              "      <td>OUT017</td>\n",
              "      <td>2007</td>\n",
              "      <td>NaN</td>\n",
              "      <td>Tier 2</td>\n",
              "      <td>Supermarket Type1</td>\n",
              "    </tr>\n",
              "  </tbody>\n",
              "</table>\n",
              "</div>\n",
              "      <button class=\"colab-df-convert\" onclick=\"convertToInteractive('df-51e78e4a-86d1-4561-aea6-1b22a8754020')\"\n",
              "              title=\"Convert this dataframe to an interactive table.\"\n",
              "              style=\"display:none;\">\n",
              "        \n",
              "  <svg xmlns=\"http://www.w3.org/2000/svg\" height=\"24px\"viewBox=\"0 0 24 24\"\n",
              "       width=\"24px\">\n",
              "    <path d=\"M0 0h24v24H0V0z\" fill=\"none\"/>\n",
              "    <path d=\"M18.56 5.44l.94 2.06.94-2.06 2.06-.94-2.06-.94-.94-2.06-.94 2.06-2.06.94zm-11 1L8.5 8.5l.94-2.06 2.06-.94-2.06-.94L8.5 2.5l-.94 2.06-2.06.94zm10 10l.94 2.06.94-2.06 2.06-.94-2.06-.94-.94-2.06-.94 2.06-2.06.94z\"/><path d=\"M17.41 7.96l-1.37-1.37c-.4-.4-.92-.59-1.43-.59-.52 0-1.04.2-1.43.59L10.3 9.45l-7.72 7.72c-.78.78-.78 2.05 0 2.83L4 21.41c.39.39.9.59 1.41.59.51 0 1.02-.2 1.41-.59l7.78-7.78 2.81-2.81c.8-.78.8-2.07 0-2.86zM5.41 20L4 18.59l7.72-7.72 1.47 1.35L5.41 20z\"/>\n",
              "  </svg>\n",
              "      </button>\n",
              "      \n",
              "  <style>\n",
              "    .colab-df-container {\n",
              "      display:flex;\n",
              "      flex-wrap:wrap;\n",
              "      gap: 12px;\n",
              "    }\n",
              "\n",
              "    .colab-df-convert {\n",
              "      background-color: #E8F0FE;\n",
              "      border: none;\n",
              "      border-radius: 50%;\n",
              "      cursor: pointer;\n",
              "      display: none;\n",
              "      fill: #1967D2;\n",
              "      height: 32px;\n",
              "      padding: 0 0 0 0;\n",
              "      width: 32px;\n",
              "    }\n",
              "\n",
              "    .colab-df-convert:hover {\n",
              "      background-color: #E2EBFA;\n",
              "      box-shadow: 0px 1px 2px rgba(60, 64, 67, 0.3), 0px 1px 3px 1px rgba(60, 64, 67, 0.15);\n",
              "      fill: #174EA6;\n",
              "    }\n",
              "\n",
              "    [theme=dark] .colab-df-convert {\n",
              "      background-color: #3B4455;\n",
              "      fill: #D2E3FC;\n",
              "    }\n",
              "\n",
              "    [theme=dark] .colab-df-convert:hover {\n",
              "      background-color: #434B5C;\n",
              "      box-shadow: 0px 1px 3px 1px rgba(0, 0, 0, 0.15);\n",
              "      filter: drop-shadow(0px 1px 2px rgba(0, 0, 0, 0.3));\n",
              "      fill: #FFFFFF;\n",
              "    }\n",
              "  </style>\n",
              "\n",
              "      <script>\n",
              "        const buttonEl =\n",
              "          document.querySelector('#df-51e78e4a-86d1-4561-aea6-1b22a8754020 button.colab-df-convert');\n",
              "        buttonEl.style.display =\n",
              "          google.colab.kernel.accessAllowed ? 'block' : 'none';\n",
              "\n",
              "        async function convertToInteractive(key) {\n",
              "          const element = document.querySelector('#df-51e78e4a-86d1-4561-aea6-1b22a8754020');\n",
              "          const dataTable =\n",
              "            await google.colab.kernel.invokeFunction('convertToInteractive',\n",
              "                                                     [key], {});\n",
              "          if (!dataTable) return;\n",
              "\n",
              "          const docLinkHtml = 'Like what you see? Visit the ' +\n",
              "            '<a target=\"_blank\" href=https://colab.research.google.com/notebooks/data_table.ipynb>data table notebook</a>'\n",
              "            + ' to learn more about interactive tables.';\n",
              "          element.innerHTML = '';\n",
              "          dataTable['output_type'] = 'display_data';\n",
              "          await google.colab.output.renderOutput(dataTable, element);\n",
              "          const docLink = document.createElement('div');\n",
              "          docLink.innerHTML = docLinkHtml;\n",
              "          element.appendChild(docLink);\n",
              "        }\n",
              "      </script>\n",
              "    </div>\n",
              "  </div>\n",
              "  "
            ]
          },
          "metadata": {},
          "execution_count": 35
        }
      ],
      "source": [
        "X_test= pd.read_csv(\"/content/test_data.csv\")\n",
        "X_test.head(10)"
      ],
      "id": "7b4bfb01"
    },
    {
      "cell_type": "code",
      "execution_count": 36,
      "metadata": {
        "colab": {
          "base_uri": "https://localhost:8080/"
        },
        "id": "a7a06126",
        "outputId": "067d50fc-9103-44e1-e305-fb3f8b7bece4"
      },
      "outputs": [
        {
          "output_type": "execute_result",
          "data": {
            "text/plain": [
              "(5681, 11)"
            ]
          },
          "metadata": {},
          "execution_count": 36
        }
      ],
      "source": [
        "X_test.shape"
      ],
      "id": "a7a06126"
    },
    {
      "cell_type": "code",
      "execution_count": 37,
      "metadata": {
        "id": "785dac25",
        "colab": {
          "base_uri": "https://localhost:8080/"
        },
        "outputId": "fd9da3b2-8e2c-40c2-d0b2-af9a6a88689a"
      },
      "outputs": [
        {
          "output_type": "stream",
          "name": "stderr",
          "text": [
            "/usr/local/lib/python3.8/dist-packages/sklearn/base.py:493: FutureWarning:\n",
            "\n",
            "The feature names should match those that were passed during fit. Starting version 1.2, an error will be raised.\n",
            "Feature names must be in the same order as they were in fit.\n",
            "\n",
            "\n"
          ]
        },
        {
          "output_type": "execute_result",
          "data": {
            "text/plain": [
              "0    2.213351e+15\n",
              "1    1.649133e+15\n",
              "2    4.594072e+15\n",
              "3    2.888608e+15\n",
              "4    4.155078e+15\n",
              "dtype: float64"
            ]
          },
          "metadata": {},
          "execution_count": 37
        }
      ],
      "source": [
        "y_pred_test = pd.Series(model.predict(X_test))\n",
        "y_pred_test.head()"
      ],
      "id": "785dac25"
    },
    {
      "cell_type": "code",
      "execution_count": 38,
      "metadata": {
        "colab": {
          "base_uri": "https://localhost:8080/"
        },
        "id": "5WlsegAipD0k",
        "outputId": "96b49134-6d4c-4ed0-82de-31ec74a94f75"
      },
      "outputs": [
        {
          "output_type": "execute_result",
          "data": {
            "text/plain": [
              "0       2.213351e+15\n",
              "1       1.649133e+15\n",
              "2       4.594072e+15\n",
              "3       2.888608e+15\n",
              "4       4.155078e+15\n",
              "            ...     \n",
              "5676    2.740497e+15\n",
              "5677    3.144524e+15\n",
              "5678    2.297092e+15\n",
              "5679    4.123357e+15\n",
              "5680    1.579307e+15\n",
              "Length: 5681, dtype: float64"
            ]
          },
          "metadata": {},
          "execution_count": 38
        }
      ],
      "source": [
        "y_pred_test\n"
      ],
      "id": "5WlsegAipD0k"
    },
    {
      "cell_type": "code",
      "execution_count": 39,
      "metadata": {
        "id": "ngj0JVkeWGry"
      },
      "outputs": [],
      "source": [
        "array = np.array(y_pred_test)"
      ],
      "id": "ngj0JVkeWGry"
    },
    {
      "cell_type": "code",
      "execution_count": 40,
      "metadata": {
        "colab": {
          "base_uri": "https://localhost:8080/"
        },
        "id": "ONbSHLOsWQOF",
        "outputId": "e75edbaf-f269-43bd-c670-c8e674e67bed"
      },
      "outputs": [
        {
          "output_type": "execute_result",
          "data": {
            "text/plain": [
              "array([2213351325415439, 1649133161544115, 4594072217594048, ...,\n",
              "       2297092019134515, 4123356921630903, 1579306653064062])"
            ]
          },
          "metadata": {},
          "execution_count": 40
        }
      ],
      "source": [
        "pred = array.astype(int)\n",
        "pred"
      ],
      "id": "ONbSHLOsWQOF"
    },
    {
      "cell_type": "code",
      "execution_count": 41,
      "metadata": {
        "colab": {
          "base_uri": "https://localhost:8080/"
        },
        "id": "LtpIXoGIXDmE",
        "outputId": "c1205db7-973d-4467-f254-f6aee9ef96fa"
      },
      "outputs": [
        {
          "output_type": "stream",
          "name": "stdout",
          "text": [
            "int64\n"
          ]
        }
      ],
      "source": [
        "print(pred.dtype)"
      ],
      "id": "LtpIXoGIXDmE"
    },
    {
      "cell_type": "code",
      "execution_count": 42,
      "metadata": {
        "colab": {
          "base_uri": "https://localhost:8080/"
        },
        "id": "EB1lEPu9vPkq",
        "outputId": "2d3befe5-ab6e-4750-ac00-1c7727b43168"
      },
      "outputs": [
        {
          "output_type": "stream",
          "name": "stdout",
          "text": [
            "features len 1604\n",
            "['Item_Identifier_FDA15', 'Item_Identifier_DRC01', 'Item_Identifier_FDN15', 'Item_Identifier_FDX07', 'Item_Identifier_NCD19']\n"
          ]
        }
      ],
      "source": [
        "features_names = model.named_steps[\"onehotencoder\"].get_feature_names_out()\n",
        "print(\"features len\", len(features_names))\n",
        "print(features_names[:5])"
      ],
      "id": "EB1lEPu9vPkq"
    },
    {
      "cell_type": "code",
      "execution_count": 44,
      "metadata": {
        "colab": {
          "base_uri": "https://localhost:8080/"
        },
        "id": "-fiKDoUXpGYU",
        "outputId": "af016702-2a1f-4abd-89e2-a765b1427e1e"
      },
      "outputs": [
        {
          "output_type": "stream",
          "name": "stdout",
          "text": [
            "<class 'pandas.core.frame.DataFrame'>\n",
            "RangeIndex: 5681 entries, 0 to 5680\n",
            "Data columns (total 3 columns):\n",
            " #   Column             Non-Null Count  Dtype \n",
            "---  ------             --------------  ----- \n",
            " 0   Item_Identifier    5681 non-null   object\n",
            " 1   Outlet_Identifier  5681 non-null   object\n",
            " 2   Item_Outlet_Sales  5681 non-null   int64 \n",
            "dtypes: int64(1), object(2)\n",
            "memory usage: 133.3+ KB\n"
          ]
        }
      ],
      "source": [
        "submission = pd.read_csv(\"/content/sample_submission_8RXa3c6.csv\")\n",
        "submission.head(10)\n",
        "submission.info()"
      ],
      "id": "-fiKDoUXpGYU"
    },
    {
      "cell_type": "code",
      "execution_count": 45,
      "metadata": {
        "id": "4djEW0BNLUTl"
      },
      "outputs": [],
      "source": [
        "submission[\"Item_Identifier\"] = X_test[\"Item_Identifier\"]\n",
        "submission[\"Outlet_Identifier\"] = X_test[\"Outlet_Identifier\"]\n",
        "submission[\"Item_Outlet_Sales\"] = pred"
      ],
      "id": "4djEW0BNLUTl"
    },
    {
      "cell_type": "code",
      "execution_count": 46,
      "metadata": {
        "colab": {
          "base_uri": "https://localhost:8080/",
          "height": 424
        },
        "id": "gdHXhigEm68v",
        "outputId": "f1bea752-49b7-4592-8703-b27d4b381b81"
      },
      "outputs": [
        {
          "output_type": "execute_result",
          "data": {
            "text/plain": [
              "     Item_Identifier Outlet_Identifier  Item_Outlet_Sales\n",
              "0              FDW58            OUT049   2213351325415439\n",
              "1              FDW14            OUT017   1649133161544115\n",
              "2              NCN55            OUT010   4594072217594048\n",
              "3              FDQ58            OUT017   2888608203364291\n",
              "4              FDY38            OUT027   4155078303190758\n",
              "...              ...               ...                ...\n",
              "5676           FDB58            OUT046   2740497298281602\n",
              "5677           FDD47            OUT018   3144523785879605\n",
              "5678           NCO17            OUT045   2297092019134515\n",
              "5679           FDJ26            OUT017   4123356921630903\n",
              "5680           FDU37            OUT045   1579306653064062\n",
              "\n",
              "[5681 rows x 3 columns]"
            ],
            "text/html": [
              "\n",
              "  <div id=\"df-4678567c-70c2-4a07-b932-4a2443d41f62\">\n",
              "    <div class=\"colab-df-container\">\n",
              "      <div>\n",
              "<style scoped>\n",
              "    .dataframe tbody tr th:only-of-type {\n",
              "        vertical-align: middle;\n",
              "    }\n",
              "\n",
              "    .dataframe tbody tr th {\n",
              "        vertical-align: top;\n",
              "    }\n",
              "\n",
              "    .dataframe thead th {\n",
              "        text-align: right;\n",
              "    }\n",
              "</style>\n",
              "<table border=\"1\" class=\"dataframe\">\n",
              "  <thead>\n",
              "    <tr style=\"text-align: right;\">\n",
              "      <th></th>\n",
              "      <th>Item_Identifier</th>\n",
              "      <th>Outlet_Identifier</th>\n",
              "      <th>Item_Outlet_Sales</th>\n",
              "    </tr>\n",
              "  </thead>\n",
              "  <tbody>\n",
              "    <tr>\n",
              "      <th>0</th>\n",
              "      <td>FDW58</td>\n",
              "      <td>OUT049</td>\n",
              "      <td>2213351325415439</td>\n",
              "    </tr>\n",
              "    <tr>\n",
              "      <th>1</th>\n",
              "      <td>FDW14</td>\n",
              "      <td>OUT017</td>\n",
              "      <td>1649133161544115</td>\n",
              "    </tr>\n",
              "    <tr>\n",
              "      <th>2</th>\n",
              "      <td>NCN55</td>\n",
              "      <td>OUT010</td>\n",
              "      <td>4594072217594048</td>\n",
              "    </tr>\n",
              "    <tr>\n",
              "      <th>3</th>\n",
              "      <td>FDQ58</td>\n",
              "      <td>OUT017</td>\n",
              "      <td>2888608203364291</td>\n",
              "    </tr>\n",
              "    <tr>\n",
              "      <th>4</th>\n",
              "      <td>FDY38</td>\n",
              "      <td>OUT027</td>\n",
              "      <td>4155078303190758</td>\n",
              "    </tr>\n",
              "    <tr>\n",
              "      <th>...</th>\n",
              "      <td>...</td>\n",
              "      <td>...</td>\n",
              "      <td>...</td>\n",
              "    </tr>\n",
              "    <tr>\n",
              "      <th>5676</th>\n",
              "      <td>FDB58</td>\n",
              "      <td>OUT046</td>\n",
              "      <td>2740497298281602</td>\n",
              "    </tr>\n",
              "    <tr>\n",
              "      <th>5677</th>\n",
              "      <td>FDD47</td>\n",
              "      <td>OUT018</td>\n",
              "      <td>3144523785879605</td>\n",
              "    </tr>\n",
              "    <tr>\n",
              "      <th>5678</th>\n",
              "      <td>NCO17</td>\n",
              "      <td>OUT045</td>\n",
              "      <td>2297092019134515</td>\n",
              "    </tr>\n",
              "    <tr>\n",
              "      <th>5679</th>\n",
              "      <td>FDJ26</td>\n",
              "      <td>OUT017</td>\n",
              "      <td>4123356921630903</td>\n",
              "    </tr>\n",
              "    <tr>\n",
              "      <th>5680</th>\n",
              "      <td>FDU37</td>\n",
              "      <td>OUT045</td>\n",
              "      <td>1579306653064062</td>\n",
              "    </tr>\n",
              "  </tbody>\n",
              "</table>\n",
              "<p>5681 rows × 3 columns</p>\n",
              "</div>\n",
              "      <button class=\"colab-df-convert\" onclick=\"convertToInteractive('df-4678567c-70c2-4a07-b932-4a2443d41f62')\"\n",
              "              title=\"Convert this dataframe to an interactive table.\"\n",
              "              style=\"display:none;\">\n",
              "        \n",
              "  <svg xmlns=\"http://www.w3.org/2000/svg\" height=\"24px\"viewBox=\"0 0 24 24\"\n",
              "       width=\"24px\">\n",
              "    <path d=\"M0 0h24v24H0V0z\" fill=\"none\"/>\n",
              "    <path d=\"M18.56 5.44l.94 2.06.94-2.06 2.06-.94-2.06-.94-.94-2.06-.94 2.06-2.06.94zm-11 1L8.5 8.5l.94-2.06 2.06-.94-2.06-.94L8.5 2.5l-.94 2.06-2.06.94zm10 10l.94 2.06.94-2.06 2.06-.94-2.06-.94-.94-2.06-.94 2.06-2.06.94z\"/><path d=\"M17.41 7.96l-1.37-1.37c-.4-.4-.92-.59-1.43-.59-.52 0-1.04.2-1.43.59L10.3 9.45l-7.72 7.72c-.78.78-.78 2.05 0 2.83L4 21.41c.39.39.9.59 1.41.59.51 0 1.02-.2 1.41-.59l7.78-7.78 2.81-2.81c.8-.78.8-2.07 0-2.86zM5.41 20L4 18.59l7.72-7.72 1.47 1.35L5.41 20z\"/>\n",
              "  </svg>\n",
              "      </button>\n",
              "      \n",
              "  <style>\n",
              "    .colab-df-container {\n",
              "      display:flex;\n",
              "      flex-wrap:wrap;\n",
              "      gap: 12px;\n",
              "    }\n",
              "\n",
              "    .colab-df-convert {\n",
              "      background-color: #E8F0FE;\n",
              "      border: none;\n",
              "      border-radius: 50%;\n",
              "      cursor: pointer;\n",
              "      display: none;\n",
              "      fill: #1967D2;\n",
              "      height: 32px;\n",
              "      padding: 0 0 0 0;\n",
              "      width: 32px;\n",
              "    }\n",
              "\n",
              "    .colab-df-convert:hover {\n",
              "      background-color: #E2EBFA;\n",
              "      box-shadow: 0px 1px 2px rgba(60, 64, 67, 0.3), 0px 1px 3px 1px rgba(60, 64, 67, 0.15);\n",
              "      fill: #174EA6;\n",
              "    }\n",
              "\n",
              "    [theme=dark] .colab-df-convert {\n",
              "      background-color: #3B4455;\n",
              "      fill: #D2E3FC;\n",
              "    }\n",
              "\n",
              "    [theme=dark] .colab-df-convert:hover {\n",
              "      background-color: #434B5C;\n",
              "      box-shadow: 0px 1px 3px 1px rgba(0, 0, 0, 0.15);\n",
              "      filter: drop-shadow(0px 1px 2px rgba(0, 0, 0, 0.3));\n",
              "      fill: #FFFFFF;\n",
              "    }\n",
              "  </style>\n",
              "\n",
              "      <script>\n",
              "        const buttonEl =\n",
              "          document.querySelector('#df-4678567c-70c2-4a07-b932-4a2443d41f62 button.colab-df-convert');\n",
              "        buttonEl.style.display =\n",
              "          google.colab.kernel.accessAllowed ? 'block' : 'none';\n",
              "\n",
              "        async function convertToInteractive(key) {\n",
              "          const element = document.querySelector('#df-4678567c-70c2-4a07-b932-4a2443d41f62');\n",
              "          const dataTable =\n",
              "            await google.colab.kernel.invokeFunction('convertToInteractive',\n",
              "                                                     [key], {});\n",
              "          if (!dataTable) return;\n",
              "\n",
              "          const docLinkHtml = 'Like what you see? Visit the ' +\n",
              "            '<a target=\"_blank\" href=https://colab.research.google.com/notebooks/data_table.ipynb>data table notebook</a>'\n",
              "            + ' to learn more about interactive tables.';\n",
              "          element.innerHTML = '';\n",
              "          dataTable['output_type'] = 'display_data';\n",
              "          await google.colab.output.renderOutput(dataTable, element);\n",
              "          const docLink = document.createElement('div');\n",
              "          docLink.innerHTML = docLinkHtml;\n",
              "          element.appendChild(docLink);\n",
              "        }\n",
              "      </script>\n",
              "    </div>\n",
              "  </div>\n",
              "  "
            ]
          },
          "metadata": {},
          "execution_count": 46
        }
      ],
      "source": [
        "submission"
      ],
      "id": "gdHXhigEm68v"
    },
    {
      "cell_type": "code",
      "source": [
        "import io\n",
        "from io import StringIO"
      ],
      "metadata": {
        "id": "p54wxW28bZTE"
      },
      "id": "p54wxW28bZTE",
      "execution_count": 71,
      "outputs": []
    },
    {
      "cell_type": "code",
      "execution_count": 79,
      "metadata": {
        "id": "LM5dua2-YrP7",
        "colab": {
          "base_uri": "https://localhost:8080/",
          "height": 424
        },
        "outputId": "e1feecaa-6da8-4175-e533-66200f03e86b"
      },
      "outputs": [
        {
          "output_type": "execute_result",
          "data": {
            "text/plain": [
              "     Item_Identifier Outlet_Identifier  Item_Outlet_Sales\n",
              "0              FDW58            OUT049   2213351325415439\n",
              "1              FDW14            OUT017   1649133161544115\n",
              "2              NCN55            OUT010   4594072217594048\n",
              "3              FDQ58            OUT017   2888608203364291\n",
              "4              FDY38            OUT027   4155078303190758\n",
              "...              ...               ...                ...\n",
              "5676           FDB58            OUT046   2740497298281602\n",
              "5677           FDD47            OUT018   3144523785879605\n",
              "5678           NCO17            OUT045   2297092019134515\n",
              "5679           FDJ26            OUT017   4123356921630903\n",
              "5680           FDU37            OUT045   1579306653064062\n",
              "\n",
              "[5681 rows x 3 columns]"
            ],
            "text/html": [
              "\n",
              "  <div id=\"df-cf924da6-e177-489c-8e70-def08d3459e3\">\n",
              "    <div class=\"colab-df-container\">\n",
              "      <div>\n",
              "<style scoped>\n",
              "    .dataframe tbody tr th:only-of-type {\n",
              "        vertical-align: middle;\n",
              "    }\n",
              "\n",
              "    .dataframe tbody tr th {\n",
              "        vertical-align: top;\n",
              "    }\n",
              "\n",
              "    .dataframe thead th {\n",
              "        text-align: right;\n",
              "    }\n",
              "</style>\n",
              "<table border=\"1\" class=\"dataframe\">\n",
              "  <thead>\n",
              "    <tr style=\"text-align: right;\">\n",
              "      <th></th>\n",
              "      <th>Item_Identifier</th>\n",
              "      <th>Outlet_Identifier</th>\n",
              "      <th>Item_Outlet_Sales</th>\n",
              "    </tr>\n",
              "  </thead>\n",
              "  <tbody>\n",
              "    <tr>\n",
              "      <th>0</th>\n",
              "      <td>FDW58</td>\n",
              "      <td>OUT049</td>\n",
              "      <td>2213351325415439</td>\n",
              "    </tr>\n",
              "    <tr>\n",
              "      <th>1</th>\n",
              "      <td>FDW14</td>\n",
              "      <td>OUT017</td>\n",
              "      <td>1649133161544115</td>\n",
              "    </tr>\n",
              "    <tr>\n",
              "      <th>2</th>\n",
              "      <td>NCN55</td>\n",
              "      <td>OUT010</td>\n",
              "      <td>4594072217594048</td>\n",
              "    </tr>\n",
              "    <tr>\n",
              "      <th>3</th>\n",
              "      <td>FDQ58</td>\n",
              "      <td>OUT017</td>\n",
              "      <td>2888608203364291</td>\n",
              "    </tr>\n",
              "    <tr>\n",
              "      <th>4</th>\n",
              "      <td>FDY38</td>\n",
              "      <td>OUT027</td>\n",
              "      <td>4155078303190758</td>\n",
              "    </tr>\n",
              "    <tr>\n",
              "      <th>...</th>\n",
              "      <td>...</td>\n",
              "      <td>...</td>\n",
              "      <td>...</td>\n",
              "    </tr>\n",
              "    <tr>\n",
              "      <th>5676</th>\n",
              "      <td>FDB58</td>\n",
              "      <td>OUT046</td>\n",
              "      <td>2740497298281602</td>\n",
              "    </tr>\n",
              "    <tr>\n",
              "      <th>5677</th>\n",
              "      <td>FDD47</td>\n",
              "      <td>OUT018</td>\n",
              "      <td>3144523785879605</td>\n",
              "    </tr>\n",
              "    <tr>\n",
              "      <th>5678</th>\n",
              "      <td>NCO17</td>\n",
              "      <td>OUT045</td>\n",
              "      <td>2297092019134515</td>\n",
              "    </tr>\n",
              "    <tr>\n",
              "      <th>5679</th>\n",
              "      <td>FDJ26</td>\n",
              "      <td>OUT017</td>\n",
              "      <td>4123356921630903</td>\n",
              "    </tr>\n",
              "    <tr>\n",
              "      <th>5680</th>\n",
              "      <td>FDU37</td>\n",
              "      <td>OUT045</td>\n",
              "      <td>1579306653064062</td>\n",
              "    </tr>\n",
              "  </tbody>\n",
              "</table>\n",
              "<p>5681 rows × 3 columns</p>\n",
              "</div>\n",
              "      <button class=\"colab-df-convert\" onclick=\"convertToInteractive('df-cf924da6-e177-489c-8e70-def08d3459e3')\"\n",
              "              title=\"Convert this dataframe to an interactive table.\"\n",
              "              style=\"display:none;\">\n",
              "        \n",
              "  <svg xmlns=\"http://www.w3.org/2000/svg\" height=\"24px\"viewBox=\"0 0 24 24\"\n",
              "       width=\"24px\">\n",
              "    <path d=\"M0 0h24v24H0V0z\" fill=\"none\"/>\n",
              "    <path d=\"M18.56 5.44l.94 2.06.94-2.06 2.06-.94-2.06-.94-.94-2.06-.94 2.06-2.06.94zm-11 1L8.5 8.5l.94-2.06 2.06-.94-2.06-.94L8.5 2.5l-.94 2.06-2.06.94zm10 10l.94 2.06.94-2.06 2.06-.94-2.06-.94-.94-2.06-.94 2.06-2.06.94z\"/><path d=\"M17.41 7.96l-1.37-1.37c-.4-.4-.92-.59-1.43-.59-.52 0-1.04.2-1.43.59L10.3 9.45l-7.72 7.72c-.78.78-.78 2.05 0 2.83L4 21.41c.39.39.9.59 1.41.59.51 0 1.02-.2 1.41-.59l7.78-7.78 2.81-2.81c.8-.78.8-2.07 0-2.86zM5.41 20L4 18.59l7.72-7.72 1.47 1.35L5.41 20z\"/>\n",
              "  </svg>\n",
              "      </button>\n",
              "      \n",
              "  <style>\n",
              "    .colab-df-container {\n",
              "      display:flex;\n",
              "      flex-wrap:wrap;\n",
              "      gap: 12px;\n",
              "    }\n",
              "\n",
              "    .colab-df-convert {\n",
              "      background-color: #E8F0FE;\n",
              "      border: none;\n",
              "      border-radius: 50%;\n",
              "      cursor: pointer;\n",
              "      display: none;\n",
              "      fill: #1967D2;\n",
              "      height: 32px;\n",
              "      padding: 0 0 0 0;\n",
              "      width: 32px;\n",
              "    }\n",
              "\n",
              "    .colab-df-convert:hover {\n",
              "      background-color: #E2EBFA;\n",
              "      box-shadow: 0px 1px 2px rgba(60, 64, 67, 0.3), 0px 1px 3px 1px rgba(60, 64, 67, 0.15);\n",
              "      fill: #174EA6;\n",
              "    }\n",
              "\n",
              "    [theme=dark] .colab-df-convert {\n",
              "      background-color: #3B4455;\n",
              "      fill: #D2E3FC;\n",
              "    }\n",
              "\n",
              "    [theme=dark] .colab-df-convert:hover {\n",
              "      background-color: #434B5C;\n",
              "      box-shadow: 0px 1px 3px 1px rgba(0, 0, 0, 0.15);\n",
              "      filter: drop-shadow(0px 1px 2px rgba(0, 0, 0, 0.3));\n",
              "      fill: #FFFFFF;\n",
              "    }\n",
              "  </style>\n",
              "\n",
              "      <script>\n",
              "        const buttonEl =\n",
              "          document.querySelector('#df-cf924da6-e177-489c-8e70-def08d3459e3 button.colab-df-convert');\n",
              "        buttonEl.style.display =\n",
              "          google.colab.kernel.accessAllowed ? 'block' : 'none';\n",
              "\n",
              "        async function convertToInteractive(key) {\n",
              "          const element = document.querySelector('#df-cf924da6-e177-489c-8e70-def08d3459e3');\n",
              "          const dataTable =\n",
              "            await google.colab.kernel.invokeFunction('convertToInteractive',\n",
              "                                                     [key], {});\n",
              "          if (!dataTable) return;\n",
              "\n",
              "          const docLinkHtml = 'Like what you see? Visit the ' +\n",
              "            '<a target=\"_blank\" href=https://colab.research.google.com/notebooks/data_table.ipynb>data table notebook</a>'\n",
              "            + ' to learn more about interactive tables.';\n",
              "          element.innerHTML = '';\n",
              "          dataTable['output_type'] = 'display_data';\n",
              "          await google.colab.output.renderOutput(dataTable, element);\n",
              "          const docLink = document.createElement('div');\n",
              "          docLink.innerHTML = docLinkHtml;\n",
              "          element.appendChild(docLink);\n",
              "        }\n",
              "      </script>\n",
              "    </div>\n",
              "  </div>\n",
              "  "
            ]
          },
          "metadata": {},
          "execution_count": 79
        }
      ],
      "source": [
        "df_sales = pd.DataFrame(submission, columns=\n",
        "             [\"Item_Identifier\",\"Outlet_Identifier\",\"Item_Outlet_Sales\"])\n",
        "pd.read_csv(io.StringIO(df_sales.to_csv(index=False)))"
      ],
      "id": "LM5dua2-YrP7"
    },
    {
      "cell_type": "code",
      "execution_count": 80,
      "metadata": {
        "id": "sZ4JvX2aoLqG"
      },
      "outputs": [],
      "source": [
        "df_sales.to_csv(\"sales prediction.csv\",index=False)"
      ],
      "id": "sZ4JvX2aoLqG"
    },
    {
      "cell_type": "code",
      "source": [
        "df_sales = pd.read_csv(\"/content/sales prediction.csv\",index_col=False)\n",
        "df_sales.info()"
      ],
      "metadata": {
        "id": "ZtKVb7ckR1FV",
        "outputId": "38e6cc6b-ab1c-4ce2-d972-8eeffbae3493",
        "colab": {
          "base_uri": "https://localhost:8080/"
        }
      },
      "id": "ZtKVb7ckR1FV",
      "execution_count": 81,
      "outputs": [
        {
          "output_type": "stream",
          "name": "stdout",
          "text": [
            "<class 'pandas.core.frame.DataFrame'>\n",
            "RangeIndex: 5681 entries, 0 to 5680\n",
            "Data columns (total 3 columns):\n",
            " #   Column             Non-Null Count  Dtype \n",
            "---  ------             --------------  ----- \n",
            " 0   Item_Identifier    5681 non-null   object\n",
            " 1   Outlet_Identifier  5681 non-null   object\n",
            " 2   Item_Outlet_Sales  5681 non-null   int64 \n",
            "dtypes: int64(1), object(2)\n",
            "memory usage: 133.3+ KB\n"
          ]
        }
      ]
    }
  ],
  "metadata": {
    "colab": {
      "provenance": []
    },
    "kernelspec": {
      "display_name": "Python 3 (ipykernel)",
      "language": "python",
      "name": "python3"
    },
    "language_info": {
      "codemirror_mode": {
        "name": "ipython",
        "version": 3
      },
      "file_extension": ".py",
      "mimetype": "text/x-python",
      "name": "python",
      "nbconvert_exporter": "python",
      "pygments_lexer": "ipython3",
      "version": "3.9.7"
    }
  },
  "nbformat": 4,
  "nbformat_minor": 5
}
